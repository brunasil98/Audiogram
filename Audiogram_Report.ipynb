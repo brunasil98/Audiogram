{
 "cells": [
  {
   "cell_type": "markdown",
   "metadata": {
    "id": "YOkaygriQJqU"
   },
   "source": [
    "# **Leveraging Audiogram Frequencies to Predict Other Frequencies**\n",
    "\n",
    "\n",
    "---\n",
    "\n",
    "  The goal for this project was **to recreate** an audiogram, which consists of hearing thresholds from a listener in 7 different frequencies for each ear. In order to accomplish this task, recreating this audiogram leveraged 3 of these frequency values as inputs to Machine Learning models in order to predict the other threshold frequencies. Another important task for this project was to analyze the data provided.\n",
    "\n"
   ]
  },
  {
   "cell_type": "code",
   "execution_count": 119,
   "metadata": {
    "id": "_3j6NCEoyMoe"
   },
   "outputs": [],
   "source": [
    "# Download the Libraries\n",
    "\n",
    "\"\"\"\n",
    "Package Imports for Supervised Machine Learning and Deep Learning\n",
    "\n",
    "Preprocessing:\n",
    "\n",
    "- IterativeImputer: models a column with the missing values (target variable) as a function of other features (predictor variables) in a round-robin fashion. \n",
    "\n",
    "---\n",
    "\n",
    "ADD: Link to documentation for IterativeImputer\n",
    "\n",
    "---\n",
    "\n",
    "Scikit-Learn Models:\n",
    "\n",
    "- Linear Regression\n",
    "- K Nearest Neighbors for Regression\n",
    "- Decision Tree for Regression\n",
    "\n",
    "Tensorflow Models:\n",
    "\n",
    "- Artificial Neural Network: KerasRegressor\n",
    "\n",
    "Model Training:\n",
    "\n",
    "- Training / Testing Set: train_test_split\n",
    "- Hyperparameter Tuning: Grid Search  with K-Fold Cross Validation \n",
    "\"\"\"\n",
    "\n",
    "from sklearn.experimental import enable_iterative_imputer\n",
    "from sklearn.impute import IterativeImputer\n",
    "from sklearn.linear_model import LinearRegression\n",
    "from sklearn.neighbors import KNeighborsRegressor\n",
    "from sklearn.tree import DecisionTreeRegressor\n",
    "from sklearn.model_selection import GridSearchCV\n",
    "from sklearn.model_selection import train_test_split\n",
    "import tensorflow as tf\n",
    "from tensorflow.keras.wrappers.scikit_learn import KerasRegressor\n",
    "from keras.models import Sequential\n",
    "from keras.layers import Dense\n",
    "\n",
    "\"\"\"\n",
    "Statistical Inference\n",
    "\n",
    "- Probability Distributions\n",
    "  - norm: Used for getting the normal distribution for a dataset\n",
    "\"\"\"\n",
    "\n",
    "from scipy.stats import norm\n",
    "\n",
    "\n",
    "\"\"\"\n",
    "Data Processing and Visualization Modules\n",
    "\n",
    "Processing Modules:\n",
    "- numpy \n",
    "- pandas\n",
    "\n",
    "Visualization Modules:\n",
    "- matplotlib\n",
    "- seaborn\n",
    "\"\"\"\n",
    "\n",
    "import pandas as pd\n",
    "import matplotlib.pyplot as plt\n",
    "import numpy as np\n",
    "import seaborn as sns"
   ]
  },
  {
   "cell_type": "markdown",
   "metadata": {
    "id": "3RDUu0BBF89u"
   },
   "source": [
    "## **Reading the Data**\n",
    "\n",
    "\n",
    "---\n",
    "\n",
    "\n",
    "\n",
    "\n",
    "Step 1: Reading the data.\n",
    "\n",
    "Step 2: Seeing the types of variables to decide the next approaches "
   ]
  },
  {
   "cell_type": "code",
   "execution_count": null,
   "metadata": {
    "colab": {
     "base_uri": "https://localhost:8080/",
     "height": 270
    },
    "id": "VvMr03j-vHnc",
    "outputId": "f8381581-4c9d-4fc0-acb7-a885920b490a"
   },
   "outputs": [
    {
     "name": "stderr",
     "output_type": "stream",
     "text": [
      "/usr/local/lib/python3.7/dist-packages/IPython/core/interactiveshell.py:2882: DtypeWarning: Columns (2,3,4,5,6,7,8,9,10,11,12,13,14,15) have mixed types.Specify dtype option on import or set low_memory=False.\n",
      "  exec(code_obj, self.user_global_ns, self.user_ns)\n"
     ]
    },
    {
     "data": {
      "text/html": [
       "\n",
       "  <div id=\"df-5547b70f-12dc-4dc2-815b-986d74409de0\">\n",
       "    <div class=\"colab-df-container\">\n",
       "      <div>\n",
       "<style scoped>\n",
       "    .dataframe tbody tr th:only-of-type {\n",
       "        vertical-align: middle;\n",
       "    }\n",
       "\n",
       "    .dataframe tbody tr th {\n",
       "        vertical-align: top;\n",
       "    }\n",
       "\n",
       "    .dataframe thead th {\n",
       "        text-align: right;\n",
       "    }\n",
       "</style>\n",
       "<table border=\"1\" class=\"dataframe\">\n",
       "  <thead>\n",
       "    <tr style=\"text-align: right;\">\n",
       "      <th></th>\n",
       "      <th>test_date</th>\n",
       "      <th>nid</th>\n",
       "      <th>L500k</th>\n",
       "      <th>L1k</th>\n",
       "      <th>L2k</th>\n",
       "      <th>L3k</th>\n",
       "      <th>L4k</th>\n",
       "      <th>L6k</th>\n",
       "      <th>L8k</th>\n",
       "      <th>R500k</th>\n",
       "      <th>...</th>\n",
       "      <th>R2k</th>\n",
       "      <th>R3k</th>\n",
       "      <th>R4k</th>\n",
       "      <th>R6k</th>\n",
       "      <th>R8k</th>\n",
       "      <th>gender</th>\n",
       "      <th>naics</th>\n",
       "      <th>age_group</th>\n",
       "      <th>region</th>\n",
       "      <th>NAICS_descr</th>\n",
       "    </tr>\n",
       "  </thead>\n",
       "  <tbody>\n",
       "    <tr>\n",
       "      <th>0</th>\n",
       "      <td>08-FEB-2005</td>\n",
       "      <td>1</td>\n",
       "      <td>10</td>\n",
       "      <td>5</td>\n",
       "      <td>5</td>\n",
       "      <td>15</td>\n",
       "      <td>10</td>\n",
       "      <td>5</td>\n",
       "      <td>25</td>\n",
       "      <td>20</td>\n",
       "      <td>...</td>\n",
       "      <td>15</td>\n",
       "      <td>10</td>\n",
       "      <td>10</td>\n",
       "      <td>25</td>\n",
       "      <td>45</td>\n",
       "      <td>M</td>\n",
       "      <td>331512</td>\n",
       "      <td>4.0</td>\n",
       "      <td>MA</td>\n",
       "      <td>Steel Investment Foundries</td>\n",
       "    </tr>\n",
       "    <tr>\n",
       "      <th>1</th>\n",
       "      <td>17-MAR-2009</td>\n",
       "      <td>1</td>\n",
       "      <td>15</td>\n",
       "      <td>10</td>\n",
       "      <td>5</td>\n",
       "      <td>15</td>\n",
       "      <td>5</td>\n",
       "      <td>10</td>\n",
       "      <td>25</td>\n",
       "      <td>15</td>\n",
       "      <td>...</td>\n",
       "      <td>20</td>\n",
       "      <td>15</td>\n",
       "      <td>10</td>\n",
       "      <td>35</td>\n",
       "      <td>55</td>\n",
       "      <td>M</td>\n",
       "      <td>331512</td>\n",
       "      <td>5.0</td>\n",
       "      <td>MA</td>\n",
       "      <td>Steel Investment Foundries</td>\n",
       "    </tr>\n",
       "    <tr>\n",
       "      <th>2</th>\n",
       "      <td>08-FEB-2005</td>\n",
       "      <td>2</td>\n",
       "      <td>5</td>\n",
       "      <td>10</td>\n",
       "      <td>20</td>\n",
       "      <td>20</td>\n",
       "      <td>15</td>\n",
       "      <td>20</td>\n",
       "      <td>0</td>\n",
       "      <td>5</td>\n",
       "      <td>...</td>\n",
       "      <td>5</td>\n",
       "      <td>10</td>\n",
       "      <td>10</td>\n",
       "      <td>15</td>\n",
       "      <td>15</td>\n",
       "      <td>M</td>\n",
       "      <td>331512</td>\n",
       "      <td>2.0</td>\n",
       "      <td>MA</td>\n",
       "      <td>Steel Investment Foundries</td>\n",
       "    </tr>\n",
       "    <tr>\n",
       "      <th>3</th>\n",
       "      <td>29-FEB-2008</td>\n",
       "      <td>2</td>\n",
       "      <td>15</td>\n",
       "      <td>5</td>\n",
       "      <td>15</td>\n",
       "      <td>20</td>\n",
       "      <td>20</td>\n",
       "      <td>15</td>\n",
       "      <td>15</td>\n",
       "      <td>10</td>\n",
       "      <td>...</td>\n",
       "      <td>10</td>\n",
       "      <td>15</td>\n",
       "      <td>30</td>\n",
       "      <td>20</td>\n",
       "      <td>15</td>\n",
       "      <td>M</td>\n",
       "      <td>331512</td>\n",
       "      <td>3.0</td>\n",
       "      <td>MA</td>\n",
       "      <td>Steel Investment Foundries</td>\n",
       "    </tr>\n",
       "    <tr>\n",
       "      <th>4</th>\n",
       "      <td>08-FEB-2006</td>\n",
       "      <td>3</td>\n",
       "      <td>25</td>\n",
       "      <td>20</td>\n",
       "      <td>15</td>\n",
       "      <td>20</td>\n",
       "      <td>35</td>\n",
       "      <td>25</td>\n",
       "      <td>15</td>\n",
       "      <td>20</td>\n",
       "      <td>...</td>\n",
       "      <td>10</td>\n",
       "      <td>15</td>\n",
       "      <td>40</td>\n",
       "      <td>30</td>\n",
       "      <td>30</td>\n",
       "      <td>M</td>\n",
       "      <td>331512</td>\n",
       "      <td>3.0</td>\n",
       "      <td>MA</td>\n",
       "      <td>Steel Investment Foundries</td>\n",
       "    </tr>\n",
       "  </tbody>\n",
       "</table>\n",
       "<p>5 rows × 21 columns</p>\n",
       "</div>\n",
       "      <button class=\"colab-df-convert\" onclick=\"convertToInteractive('df-5547b70f-12dc-4dc2-815b-986d74409de0')\"\n",
       "              title=\"Convert this dataframe to an interactive table.\"\n",
       "              style=\"display:none;\">\n",
       "        \n",
       "  <svg xmlns=\"http://www.w3.org/2000/svg\" height=\"24px\"viewBox=\"0 0 24 24\"\n",
       "       width=\"24px\">\n",
       "    <path d=\"M0 0h24v24H0V0z\" fill=\"none\"/>\n",
       "    <path d=\"M18.56 5.44l.94 2.06.94-2.06 2.06-.94-2.06-.94-.94-2.06-.94 2.06-2.06.94zm-11 1L8.5 8.5l.94-2.06 2.06-.94-2.06-.94L8.5 2.5l-.94 2.06-2.06.94zm10 10l.94 2.06.94-2.06 2.06-.94-2.06-.94-.94-2.06-.94 2.06-2.06.94z\"/><path d=\"M17.41 7.96l-1.37-1.37c-.4-.4-.92-.59-1.43-.59-.52 0-1.04.2-1.43.59L10.3 9.45l-7.72 7.72c-.78.78-.78 2.05 0 2.83L4 21.41c.39.39.9.59 1.41.59.51 0 1.02-.2 1.41-.59l7.78-7.78 2.81-2.81c.8-.78.8-2.07 0-2.86zM5.41 20L4 18.59l7.72-7.72 1.47 1.35L5.41 20z\"/>\n",
       "  </svg>\n",
       "      </button>\n",
       "      \n",
       "  <style>\n",
       "    .colab-df-container {\n",
       "      display:flex;\n",
       "      flex-wrap:wrap;\n",
       "      gap: 12px;\n",
       "    }\n",
       "\n",
       "    .colab-df-convert {\n",
       "      background-color: #E8F0FE;\n",
       "      border: none;\n",
       "      border-radius: 50%;\n",
       "      cursor: pointer;\n",
       "      display: none;\n",
       "      fill: #1967D2;\n",
       "      height: 32px;\n",
       "      padding: 0 0 0 0;\n",
       "      width: 32px;\n",
       "    }\n",
       "\n",
       "    .colab-df-convert:hover {\n",
       "      background-color: #E2EBFA;\n",
       "      box-shadow: 0px 1px 2px rgba(60, 64, 67, 0.3), 0px 1px 3px 1px rgba(60, 64, 67, 0.15);\n",
       "      fill: #174EA6;\n",
       "    }\n",
       "\n",
       "    [theme=dark] .colab-df-convert {\n",
       "      background-color: #3B4455;\n",
       "      fill: #D2E3FC;\n",
       "    }\n",
       "\n",
       "    [theme=dark] .colab-df-convert:hover {\n",
       "      background-color: #434B5C;\n",
       "      box-shadow: 0px 1px 3px 1px rgba(0, 0, 0, 0.15);\n",
       "      filter: drop-shadow(0px 1px 2px rgba(0, 0, 0, 0.3));\n",
       "      fill: #FFFFFF;\n",
       "    }\n",
       "  </style>\n",
       "\n",
       "      <script>\n",
       "        const buttonEl =\n",
       "          document.querySelector('#df-5547b70f-12dc-4dc2-815b-986d74409de0 button.colab-df-convert');\n",
       "        buttonEl.style.display =\n",
       "          google.colab.kernel.accessAllowed ? 'block' : 'none';\n",
       "\n",
       "        async function convertToInteractive(key) {\n",
       "          const element = document.querySelector('#df-5547b70f-12dc-4dc2-815b-986d74409de0');\n",
       "          const dataTable =\n",
       "            await google.colab.kernel.invokeFunction('convertToInteractive',\n",
       "                                                     [key], {});\n",
       "          if (!dataTable) return;\n",
       "\n",
       "          const docLinkHtml = 'Like what you see? Visit the ' +\n",
       "            '<a target=\"_blank\" href=https://colab.research.google.com/notebooks/data_table.ipynb>data table notebook</a>'\n",
       "            + ' to learn more about interactive tables.';\n",
       "          element.innerHTML = '';\n",
       "          dataTable['output_type'] = 'display_data';\n",
       "          await google.colab.output.renderOutput(dataTable, element);\n",
       "          const docLink = document.createElement('div');\n",
       "          docLink.innerHTML = docLinkHtml;\n",
       "          element.appendChild(docLink);\n",
       "        }\n",
       "      </script>\n",
       "    </div>\n",
       "  </div>\n",
       "  "
      ],
      "text/plain": [
       "     test_date  nid L500k L1k L2k L3k L4k L6k L8k R500k  ... R2k R3k R4k R6k  \\\n",
       "0  08-FEB-2005    1    10   5   5  15  10   5  25    20  ...  15  10  10  25   \n",
       "1  17-MAR-2009    1    15  10   5  15   5  10  25    15  ...  20  15  10  35   \n",
       "2  08-FEB-2005    2     5  10  20  20  15  20   0     5  ...   5  10  10  15   \n",
       "3  29-FEB-2008    2    15   5  15  20  20  15  15    10  ...  10  15  30  20   \n",
       "4  08-FEB-2006    3    25  20  15  20  35  25  15    20  ...  10  15  40  30   \n",
       "\n",
       "  R8k gender   naics  age_group  region                 NAICS_descr  \n",
       "0  45      M  331512        4.0      MA  Steel Investment Foundries  \n",
       "1  55      M  331512        5.0      MA  Steel Investment Foundries  \n",
       "2  15      M  331512        2.0      MA  Steel Investment Foundries  \n",
       "3  15      M  331512        3.0      MA  Steel Investment Foundries  \n",
       "4  30      M  331512        3.0      MA  Steel Investment Foundries  \n",
       "\n",
       "[5 rows x 21 columns]"
      ]
     },
     "execution_count": 117,
     "metadata": {},
     "output_type": "execute_result"
    }
   ],
   "source": [
    "# Create the Data Frame - WRITE YOUR PATH\n",
    "df = pd.read_csv(\"YOUR <PATH>\")\n",
    "df.head()"
   ]
  },
  {
   "cell_type": "code",
   "execution_count": null,
   "metadata": {
    "colab": {
     "base_uri": "https://localhost:8080/"
    },
    "id": "QgpHXMbOHNdi",
    "outputId": "dc90dab4-3e7a-4b63-a1bd-e78d3dc0fb8e"
   },
   "outputs": [
    {
     "name": "stdout",
     "output_type": "stream",
     "text": [
      "<class 'pandas.core.frame.DataFrame'>\n",
      "RangeIndex: 2944670 entries, 0 to 2944669\n",
      "Data columns (total 21 columns):\n",
      " #   Column       Dtype  \n",
      "---  ------       -----  \n",
      " 0   test_date    object \n",
      " 1   nid          int64  \n",
      " 2   L500k        object \n",
      " 3   L1k          object \n",
      " 4   L2k          object \n",
      " 5   L3k          object \n",
      " 6   L4k          object \n",
      " 7   L6k          object \n",
      " 8   L8k          object \n",
      " 9   R500k        object \n",
      " 10  R1k          object \n",
      " 11  R2k          object \n",
      " 12  R3k          object \n",
      " 13  R4k          object \n",
      " 14  R6k          object \n",
      " 15  R8k          object \n",
      " 16  gender       object \n",
      " 17  naics        int64  \n",
      " 18  age_group    float64\n",
      " 19  region       object \n",
      " 20  NAICS_descr  object \n",
      "dtypes: float64(1), int64(2), object(18)\n",
      "memory usage: 471.8+ MB\n"
     ]
    }
   ],
   "source": [
    "# Seeing the types of variables and how many variables are present in the dataset\n",
    "df.info()"
   ]
  },
  {
   "cell_type": "markdown",
   "metadata": {
    "id": "wLLaZl78DynL"
   },
   "source": [
    "## **Exploratory Data Analysis (EDA): Visualization**\n",
    "\n",
    "\n",
    "---\n",
    "\n",
    "\n",
    "For this part was to analyze and vizualize the peculiarities of our data.\n",
    "\n",
    "\n",
    "1.   Which Column has the most missing values (NaN)?\n",
    "2.   Correlation of the Features\n",
    "3.   Normal distribution of the frequency features\n",
    "4.   Gender Proportions\n",
    "5. Which ear has the most hearing loss at various frequencies?\n",
    "\n",
    "\n",
    "\n"
   ]
  },
  {
   "cell_type": "code",
   "execution_count": 120,
   "metadata": {
    "id": "RFY7xT12Ero0"
   },
   "outputs": [],
   "source": [
    "# Select a type of visualization \n",
    "plt.style.use('ggplot')"
   ]
  },
  {
   "cell_type": "markdown",
   "metadata": {
    "id": "_qBbGIiK95lP"
   },
   "source": [
    "### Which Column Has The Most Missing Values (NaN)\n",
    "\n",
    "Step 1: Replace the dirty values as NaN values\n",
    "<br />\n",
    "Step 2: Sum the NaN values in each column and plot it. "
   ]
  },
  {
   "cell_type": "code",
   "execution_count": 121,
   "metadata": {
    "id": "yTM0Dl4kamQy"
   },
   "outputs": [],
   "source": [
    "# Replace invalid input as NaN values\n",
    "df = df.replace('**', np.NaN)"
   ]
  },
  {
   "cell_type": "code",
   "execution_count": 122,
   "metadata": {
    "colab": {
     "base_uri": "https://localhost:8080/",
     "height": 0
    },
    "id": "Npafa-CbZSo2",
    "outputId": "507f6a41-d2ba-40c4-dd9f-6a722b7c47f4"
   },
   "outputs": [
    {
     "data": {
      "image/png": "[encoded data removed]",
      "text/plain": [
       "<Figure size 720x720 with 1 Axes>"
      ]
     },
     "metadata": {},
     "output_type": "display_data"
    }
   ],
   "source": [
    "plt.figure(figsize=(10,10))\n",
    "\n",
    "nan_values_left = [df['L500k'].isna().sum(), df['L1k'].isna().sum(), df['L2k'].isna().sum(),df['L3k'].isna().sum(), df['L4k'].isna().sum(), df['L6k'].isna().sum(), df['L8k'].isna().sum()]\n",
    "nan_values_right = [df['R500k'].isna().sum(), df['R1k'].isna().sum(), df['R2k'].isna().sum(),df['R3k'].isna().sum(), df['R4k'].isna().sum(), df['R6k'].isna().sum(), df['R8k'].isna().sum()]\n",
    "x = np.arange(7)\n",
    "\n",
    "plt.bar(x , height = nan_values_left,width = 0.3, label='Left')\n",
    "plt.bar(x + 0.3, height = nan_values_right,width = 0.3, label='right')\n",
    "\n",
    "plt.xticks(x + 0.3 / 2, ('500k', '1k',\t'2k',\t'3k',\t'4k',\t'6k', '8k'), fontsize=20)\n",
    "\n",
    "plt.title('Which Column Has The Most Missing Values (NaN)', fontsize=22)\n",
    "plt.ylabel('Number of NaN Values', fontsize=16)\n",
    "\n",
    "plt.legend(loc='best', fontsize=20)\n",
    "plt.show()"
   ]
  },
  {
   "cell_type": "markdown",
   "metadata": {
    "id": "dSgtpfOeutVH"
   },
   "source": [
    "In the first plot, I decided to vizualize the numbers of NaN Values each *major* features has.\n",
    "\n",
    "\n",
    "---\n",
    "\n",
    "As the graph show, the **R8k** and **L8K** represent the most all Nan value of our dataset. This will be determinant how I will handle the miss data."
   ]
  },
  {
   "cell_type": "markdown",
   "metadata": {
    "id": "q_qRvF9F-F_M"
   },
   "source": [
    "### Vizualize the correlation of the features  \n",
    "\n",
    "\n",
    "Step 1: tranform all my frequency features in numeric.\n",
    "<br />\n",
    "Step 2: Encode Gender as 1 or 2 instead of Male or Female or 0, if it is a missing value.\n",
    "<br />\n",
    "Step 3: Plot the Correlation Graph\n"
   ]
  },
  {
   "cell_type": "code",
   "execution_count": 123,
   "metadata": {
    "id": "q1x_9nCe81Ik"
   },
   "outputs": [],
   "source": [
    "\"\"\"\n",
    "Data Processing Steps: \n",
    "\n",
    "Step 1: Treat the values as multiples of 5.\n",
    "Step 2: Encode Gender as 1 or 2 instead of Male or Female or 0, if it is a missing value.\n",
    "\"\"\"\n",
    "\n",
    "all_cols = ['L500k', 'L1k','L2k','L3k','L4k','L6k','L8k','R500k', 'R1k','R2k','R3k','R4k','R6k','R8k']\n",
    "\n",
    "df[all_cols] = df[all_cols].apply(pd.to_numeric)\n",
    "\n",
    "\n",
    "for i in all_cols:\n",
    "    df[i] = df[i] + (5 - df[i]%5)\n",
    "df['gender'] = df['gender'].apply(lambda x :1 if x == 'F' else 2 if x == \"M\" else 0)\n"
   ]
  },
  {
   "cell_type": "code",
   "execution_count": 124,
   "metadata": {
    "colab": {
     "base_uri": "https://localhost:8080/",
     "height": 0
    },
    "id": "fIBy7D_dzgBL",
    "outputId": "049e9f2d-feb1-4755-d6b5-a1c61ff324d3"
   },
   "outputs": [
    {
     "data": {
      "text/html": [
       "<style type=\"text/css\">\n",
       "#T_711a8_row0_col0, #T_711a8_row1_col1, #T_711a8_row2_col2, #T_711a8_row3_col3, #T_711a8_row4_col4, #T_711a8_row5_col5, #T_711a8_row6_col6, #T_711a8_row7_col7, #T_711a8_row8_col8, #T_711a8_row9_col9, #T_711a8_row10_col10, #T_711a8_row11_col11, #T_711a8_row12_col12, #T_711a8_row13_col13, #T_711a8_row14_col14, #T_711a8_row15_col15, #T_711a8_row16_col16, #T_711a8_row17_col17 {\n",
       "  background-color: #b40426;\n",
       "  color: #f1f1f1;\n",
       "}\n",
       "#T_711a8_row0_col1, #T_711a8_row0_col10, #T_711a8_row3_col0, #T_711a8_row8_col0, #T_711a8_row10_col0, #T_711a8_row15_col17, #T_711a8_row17_col16 {\n",
       "  background-color: #3e51c5;\n",
       "  color: #f1f1f1;\n",
       "}\n",
       "#T_711a8_row0_col2, #T_711a8_row0_col15, #T_711a8_row1_col15, #T_711a8_row9_col0, #T_711a8_row9_col16, #T_711a8_row13_col16 {\n",
       "  background-color: #3c4ec2;\n",
       "  color: #f1f1f1;\n",
       "}\n",
       "#T_711a8_row0_col3, #T_711a8_row15_col8 {\n",
       "  background-color: #3f53c6;\n",
       "  color: #f1f1f1;\n",
       "}\n",
       "#T_711a8_row0_col4, #T_711a8_row0_col5, #T_711a8_row0_col6, #T_711a8_row0_col12, #T_711a8_row0_col13, #T_711a8_row9_col15 {\n",
       "  background-color: #445acc;\n",
       "  color: #f1f1f1;\n",
       "}\n",
       "#T_711a8_row0_col7, #T_711a8_row0_col14 {\n",
       "  background-color: #5b7ae5;\n",
       "  color: #f1f1f1;\n",
       "}\n",
       "#T_711a8_row0_col8, #T_711a8_row11_col0, #T_711a8_row13_col0 {\n",
       "  background-color: #4257c9;\n",
       "  color: #f1f1f1;\n",
       "}\n",
       "#T_711a8_row0_col9, #T_711a8_row2_col16, #T_711a8_row3_col16, #T_711a8_row4_col16, #T_711a8_row5_col16, #T_711a8_row6_col16, #T_711a8_row10_col16, #T_711a8_row11_col16, #T_711a8_row12_col16, #T_711a8_row15_col0, #T_711a8_row17_col15 {\n",
       "  background-color: #3d50c3;\n",
       "  color: #f1f1f1;\n",
       "}\n",
       "#T_711a8_row0_col11, #T_711a8_row4_col0, #T_711a8_row5_col0, #T_711a8_row6_col0, #T_711a8_row12_col0 {\n",
       "  background-color: #4358cb;\n",
       "  color: #f1f1f1;\n",
       "}\n",
       "#T_711a8_row0_col16, #T_711a8_row15_col14, #T_711a8_row15_col16 {\n",
       "  background-color: #4e68d8;\n",
       "  color: #f1f1f1;\n",
       "}\n",
       "#T_711a8_row0_col17, #T_711a8_row15_col1, #T_711a8_row17_col0 {\n",
       "  background-color: #4055c8;\n",
       "  color: #f1f1f1;\n",
       "}\n",
       "#T_711a8_row1_col0, #T_711a8_row1_col16, #T_711a8_row2_col0, #T_711a8_row8_col15, #T_711a8_row8_col16, #T_711a8_row16_col1, #T_711a8_row16_col2, #T_711a8_row16_col3, #T_711a8_row16_col4, #T_711a8_row16_col5, #T_711a8_row16_col6, #T_711a8_row16_col7, #T_711a8_row16_col8, #T_711a8_row16_col9, #T_711a8_row16_col10, #T_711a8_row16_col11, #T_711a8_row16_col12, #T_711a8_row16_col13, #T_711a8_row16_col14, #T_711a8_row16_col17 {\n",
       "  background-color: #3b4cc0;\n",
       "  color: #f1f1f1;\n",
       "}\n",
       "#T_711a8_row1_col2, #T_711a8_row8_col9 {\n",
       "  background-color: #f59c7d;\n",
       "  color: #000000;\n",
       "}\n",
       "#T_711a8_row1_col3, #T_711a8_row7_col13 {\n",
       "  background-color: #e8d6cc;\n",
       "  color: #000000;\n",
       "}\n",
       "#T_711a8_row1_col4 {\n",
       "  background-color: #bbd1f8;\n",
       "  color: #000000;\n",
       "}\n",
       "#T_711a8_row1_col5 {\n",
       "  background-color: #adc9fd;\n",
       "  color: #000000;\n",
       "}\n",
       "#T_711a8_row1_col6, #T_711a8_row3_col17, #T_711a8_row5_col1 {\n",
       "  background-color: #aec9fc;\n",
       "  color: #000000;\n",
       "}\n",
       "#T_711a8_row1_col7 {\n",
       "  background-color: #85a8fc;\n",
       "  color: #f1f1f1;\n",
       "}\n",
       "#T_711a8_row1_col8, #T_711a8_row8_col1 {\n",
       "  background-color: #f6a385;\n",
       "  color: #000000;\n",
       "}\n",
       "#T_711a8_row1_col9 {\n",
       "  background-color: #f5c0a7;\n",
       "  color: #000000;\n",
       "}\n",
       "#T_711a8_row1_col10, #T_711a8_row9_col11, #T_711a8_row14_col12 {\n",
       "  background-color: #dddcdc;\n",
       "  color: #000000;\n",
       "}\n",
       "#T_711a8_row1_col11 {\n",
       "  background-color: #b5cdfa;\n",
       "  color: #000000;\n",
       "}\n",
       "#T_711a8_row1_col12 {\n",
       "  background-color: #a6c4fe;\n",
       "  color: #000000;\n",
       "}\n",
       "#T_711a8_row1_col13, #T_711a8_row8_col5 {\n",
       "  background-color: #a7c5fe;\n",
       "  color: #000000;\n",
       "}\n",
       "#T_711a8_row1_col14, #T_711a8_row15_col4 {\n",
       "  background-color: #80a3fa;\n",
       "  color: #f1f1f1;\n",
       "}\n",
       "#T_711a8_row1_col17 {\n",
       "  background-color: #7597f6;\n",
       "  color: #f1f1f1;\n",
       "}\n",
       "#T_711a8_row2_col1, #T_711a8_row9_col8 {\n",
       "  background-color: #f49a7b;\n",
       "  color: #000000;\n",
       "}\n",
       "#T_711a8_row2_col3, #T_711a8_row3_col2 {\n",
       "  background-color: #f7ac8e;\n",
       "  color: #000000;\n",
       "}\n",
       "#T_711a8_row2_col4, #T_711a8_row4_col2, #T_711a8_row5_col7, #T_711a8_row8_col3, #T_711a8_row17_col5 {\n",
       "  background-color: #dcdddd;\n",
       "  color: #000000;\n",
       "}\n",
       "#T_711a8_row2_col5, #T_711a8_row5_col2, #T_711a8_row11_col7 {\n",
       "  background-color: #ccd9ed;\n",
       "  color: #000000;\n",
       "}\n",
       "#T_711a8_row2_col6, #T_711a8_row6_col2, #T_711a8_row13_col9 {\n",
       "  background-color: #c9d7f0;\n",
       "  color: #000000;\n",
       "}\n",
       "#T_711a8_row2_col7, #T_711a8_row9_col14, #T_711a8_row14_col2 {\n",
       "  background-color: #9bbcff;\n",
       "  color: #000000;\n",
       "}\n",
       "#T_711a8_row2_col8 {\n",
       "  background-color: #f6bda2;\n",
       "  color: #000000;\n",
       "}\n",
       "#T_711a8_row2_col9, #T_711a8_row9_col2 {\n",
       "  background-color: #f29072;\n",
       "  color: #f1f1f1;\n",
       "}\n",
       "#T_711a8_row2_col10, #T_711a8_row8_col2, #T_711a8_row10_col2 {\n",
       "  background-color: #f6bea4;\n",
       "  color: #000000;\n",
       "}\n",
       "#T_711a8_row2_col11, #T_711a8_row11_col2, #T_711a8_row13_col17, #T_711a8_row14_col11 {\n",
       "  background-color: #d5dbe5;\n",
       "  color: #000000;\n",
       "}\n",
       "#T_711a8_row2_col12, #T_711a8_row12_col2 {\n",
       "  background-color: #c5d6f2;\n",
       "  color: #000000;\n",
       "}\n",
       "#T_711a8_row2_col13, #T_711a8_row6_col9, #T_711a8_row9_col6, #T_711a8_row11_col8, #T_711a8_row13_col2 {\n",
       "  background-color: #c1d4f4;\n",
       "  color: #000000;\n",
       "}\n",
       "#T_711a8_row2_col14 {\n",
       "  background-color: #93b5fe;\n",
       "  color: #000000;\n",
       "}\n",
       "#T_711a8_row2_col15, #T_711a8_row16_col0 {\n",
       "  background-color: #4a63d3;\n",
       "  color: #f1f1f1;\n",
       "}\n",
       "#T_711a8_row2_col17 {\n",
       "  background-color: #8db0fe;\n",
       "  color: #000000;\n",
       "}\n",
       "#T_711a8_row3_col1, #T_711a8_row10_col13, #T_711a8_row13_col10 {\n",
       "  background-color: #e9d5cb;\n",
       "  color: #000000;\n",
       "}\n",
       "#T_711a8_row3_col4, #T_711a8_row4_col3, #T_711a8_row11_col13, #T_711a8_row13_col11 {\n",
       "  background-color: #f7a98b;\n",
       "  color: #000000;\n",
       "}\n",
       "#T_711a8_row3_col5, #T_711a8_row5_col3 {\n",
       "  background-color: #f2cab5;\n",
       "  color: #000000;\n",
       "}\n",
       "#T_711a8_row3_col6, #T_711a8_row6_col3, #T_711a8_row8_col10 {\n",
       "  background-color: #ebd3c6;\n",
       "  color: #000000;\n",
       "}\n",
       "#T_711a8_row3_col7 {\n",
       "  background-color: #bad0f8;\n",
       "  color: #000000;\n",
       "}\n",
       "#T_711a8_row3_col8, #T_711a8_row11_col9 {\n",
       "  background-color: #dedcdb;\n",
       "  color: #000000;\n",
       "}\n",
       "#T_711a8_row3_col9, #T_711a8_row9_col3 {\n",
       "  background-color: #f5c2aa;\n",
       "  color: #000000;\n",
       "}\n",
       "#T_711a8_row3_col10, #T_711a8_row6_col13, #T_711a8_row10_col3, #T_711a8_row13_col6 {\n",
       "  background-color: #ed8366;\n",
       "  color: #f1f1f1;\n",
       "}\n",
       "#T_711a8_row3_col11, #T_711a8_row11_col3 {\n",
       "  background-color: #f7b99e;\n",
       "  color: #000000;\n",
       "}\n",
       "#T_711a8_row3_col12, #T_711a8_row12_col3 {\n",
       "  background-color: #edd2c3;\n",
       "  color: #000000;\n",
       "}\n",
       "#T_711a8_row3_col13, #T_711a8_row13_col7 {\n",
       "  background-color: #e4d9d2;\n",
       "  color: #000000;\n",
       "}\n",
       "#T_711a8_row3_col14, #T_711a8_row8_col12, #T_711a8_row10_col17, #T_711a8_row17_col3 {\n",
       "  background-color: #afcafc;\n",
       "  color: #000000;\n",
       "}\n",
       "#T_711a8_row3_col15 {\n",
       "  background-color: #5673e0;\n",
       "  color: #f1f1f1;\n",
       "}\n",
       "#T_711a8_row4_col1, #T_711a8_row14_col10 {\n",
       "  background-color: #bed2f6;\n",
       "  color: #000000;\n",
       "}\n",
       "#T_711a8_row4_col5, #T_711a8_row5_col4 {\n",
       "  background-color: #e46e56;\n",
       "  color: #f1f1f1;\n",
       "}\n",
       "#T_711a8_row4_col6, #T_711a8_row6_col4 {\n",
       "  background-color: #f7a688;\n",
       "  color: #000000;\n",
       "}\n",
       "#T_711a8_row4_col7 {\n",
       "  background-color: #d4dbe6;\n",
       "  color: #000000;\n",
       "}\n",
       "#T_711a8_row4_col8, #T_711a8_row11_col1, #T_711a8_row14_col3 {\n",
       "  background-color: #b6cefa;\n",
       "  color: #000000;\n",
       "}\n",
       "#T_711a8_row4_col9, #T_711a8_row5_col14, #T_711a8_row9_col4 {\n",
       "  background-color: #d2dbe8;\n",
       "  color: #000000;\n",
       "}\n",
       "#T_711a8_row4_col10, #T_711a8_row10_col4 {\n",
       "  background-color: #f5c4ac;\n",
       "  color: #000000;\n",
       "}\n",
       "#T_711a8_row4_col11, #T_711a8_row11_col4, #T_711a8_row11_col12, #T_711a8_row12_col11 {\n",
       "  background-color: #e67259;\n",
       "  color: #f1f1f1;\n",
       "}\n",
       "#T_711a8_row4_col12, #T_711a8_row12_col4 {\n",
       "  background-color: #f08b6e;\n",
       "  color: #f1f1f1;\n",
       "}\n",
       "#T_711a8_row4_col13 {\n",
       "  background-color: #f7b599;\n",
       "  color: #000000;\n",
       "}\n",
       "#T_711a8_row4_col14, #T_711a8_row9_col13 {\n",
       "  background-color: #cad8ef;\n",
       "  color: #000000;\n",
       "}\n",
       "#T_711a8_row4_col15 {\n",
       "  background-color: #7da0f9;\n",
       "  color: #f1f1f1;\n",
       "}\n",
       "#T_711a8_row4_col17, #T_711a8_row17_col4 {\n",
       "  background-color: #cfdaea;\n",
       "  color: #000000;\n",
       "}\n",
       "#T_711a8_row5_col6, #T_711a8_row6_col5 {\n",
       "  background-color: #f18d6f;\n",
       "  color: #f1f1f1;\n",
       "}\n",
       "#T_711a8_row5_col8, #T_711a8_row8_col6, #T_711a8_row12_col1, #T_711a8_row13_col1 {\n",
       "  background-color: #a9c6fd;\n",
       "  color: #000000;\n",
       "}\n",
       "#T_711a8_row5_col9, #T_711a8_row9_col5 {\n",
       "  background-color: #c4d5f3;\n",
       "  color: #000000;\n",
       "}\n",
       "#T_711a8_row5_col10, #T_711a8_row10_col5 {\n",
       "  background-color: #e7d7ce;\n",
       "  color: #000000;\n",
       "}\n",
       "#T_711a8_row5_col11, #T_711a8_row11_col5 {\n",
       "  background-color: #f39475;\n",
       "  color: #000000;\n",
       "}\n",
       "#T_711a8_row5_col12, #T_711a8_row12_col5 {\n",
       "  background-color: #e57058;\n",
       "  color: #f1f1f1;\n",
       "}\n",
       "#T_711a8_row5_col13, #T_711a8_row12_col6, #T_711a8_row13_col5 {\n",
       "  background-color: #f6a283;\n",
       "  color: #000000;\n",
       "}\n",
       "#T_711a8_row5_col15 {\n",
       "  background-color: #88abfd;\n",
       "  color: #000000;\n",
       "}\n",
       "#T_711a8_row5_col17 {\n",
       "  background-color: #dbdcde;\n",
       "  color: #000000;\n",
       "}\n",
       "#T_711a8_row6_col1, #T_711a8_row10_col7, #T_711a8_row12_col8, #T_711a8_row17_col10 {\n",
       "  background-color: #b1cbfc;\n",
       "  color: #000000;\n",
       "}\n",
       "#T_711a8_row6_col7 {\n",
       "  background-color: #efcfbf;\n",
       "  color: #000000;\n",
       "}\n",
       "#T_711a8_row6_col8 {\n",
       "  background-color: #abc8fd;\n",
       "  color: #000000;\n",
       "}\n",
       "#T_711a8_row6_col10, #T_711a8_row7_col5, #T_711a8_row10_col6 {\n",
       "  background-color: #e0dbd8;\n",
       "  color: #000000;\n",
       "}\n",
       "#T_711a8_row6_col11, #T_711a8_row11_col6 {\n",
       "  background-color: #f7b89c;\n",
       "  color: #000000;\n",
       "}\n",
       "#T_711a8_row6_col12 {\n",
       "  background-color: #f5a081;\n",
       "  color: #000000;\n",
       "}\n",
       "#T_711a8_row6_col14 {\n",
       "  background-color: #e1dad6;\n",
       "  color: #000000;\n",
       "}\n",
       "#T_711a8_row6_col15 {\n",
       "  background-color: #6c8ff1;\n",
       "  color: #f1f1f1;\n",
       "}\n",
       "#T_711a8_row6_col17, #T_711a8_row12_col7, #T_711a8_row17_col6, #T_711a8_row17_col13 {\n",
       "  background-color: #d6dce4;\n",
       "  color: #000000;\n",
       "}\n",
       "#T_711a8_row7_col0, #T_711a8_row14_col0 {\n",
       "  background-color: #6384eb;\n",
       "  color: #f1f1f1;\n",
       "}\n",
       "#T_711a8_row7_col1 {\n",
       "  background-color: #90b2fe;\n",
       "  color: #000000;\n",
       "}\n",
       "#T_711a8_row7_col2, #T_711a8_row14_col9 {\n",
       "  background-color: #a3c2fe;\n",
       "  color: #000000;\n",
       "}\n",
       "#T_711a8_row7_col3, #T_711a8_row8_col11 {\n",
       "  background-color: #c0d4f5;\n",
       "  color: #000000;\n",
       "}\n",
       "#T_711a8_row7_col4 {\n",
       "  background-color: #d8dce2;\n",
       "  color: #000000;\n",
       "}\n",
       "#T_711a8_row7_col6 {\n",
       "  background-color: #f1ccb8;\n",
       "  color: #000000;\n",
       "}\n",
       "#T_711a8_row7_col8, #T_711a8_row17_col2 {\n",
       "  background-color: #8fb1fe;\n",
       "  color: #000000;\n",
       "}\n",
       "#T_711a8_row7_col9 {\n",
       "  background-color: #9ebeff;\n",
       "  color: #000000;\n",
       "}\n",
       "#T_711a8_row7_col10, #T_711a8_row10_col14, #T_711a8_row17_col14 {\n",
       "  background-color: #b7cff9;\n",
       "  color: #000000;\n",
       "}\n",
       "#T_711a8_row7_col11, #T_711a8_row11_col14 {\n",
       "  background-color: #d1dae9;\n",
       "  color: #000000;\n",
       "}\n",
       "#T_711a8_row7_col12, #T_711a8_row17_col12 {\n",
       "  background-color: #dadce0;\n",
       "  color: #000000;\n",
       "}\n",
       "#T_711a8_row7_col14, #T_711a8_row14_col7 {\n",
       "  background-color: #d75445;\n",
       "  color: #f1f1f1;\n",
       "}\n",
       "#T_711a8_row7_col15 {\n",
       "  background-color: #5875e1;\n",
       "  color: #f1f1f1;\n",
       "}\n",
       "#T_711a8_row7_col16, #T_711a8_row15_col9 {\n",
       "  background-color: #465ecf;\n",
       "  color: #f1f1f1;\n",
       "}\n",
       "#T_711a8_row7_col17 {\n",
       "  background-color: #bfd3f6;\n",
       "  color: #000000;\n",
       "}\n",
       "#T_711a8_row8_col4, #T_711a8_row13_col8 {\n",
       "  background-color: #b3cdfb;\n",
       "  color: #000000;\n",
       "}\n",
       "#T_711a8_row8_col7, #T_711a8_row15_col12 {\n",
       "  background-color: #84a7fc;\n",
       "  color: #f1f1f1;\n",
       "}\n",
       "#T_711a8_row8_col13 {\n",
       "  background-color: #b2ccfb;\n",
       "  color: #000000;\n",
       "}\n",
       "#T_711a8_row8_col14 {\n",
       "  background-color: #89acfd;\n",
       "  color: #000000;\n",
       "}\n",
       "#T_711a8_row8_col17 {\n",
       "  background-color: #7a9df8;\n",
       "  color: #f1f1f1;\n",
       "}\n",
       "#T_711a8_row9_col1 {\n",
       "  background-color: #f6bfa6;\n",
       "  color: #000000;\n",
       "}\n",
       "#T_711a8_row9_col7, #T_711a8_row17_col9 {\n",
       "  background-color: #96b7ff;\n",
       "  color: #000000;\n",
       "}\n",
       "#T_711a8_row9_col10, #T_711a8_row10_col9 {\n",
       "  background-color: #f7a889;\n",
       "  color: #000000;\n",
       "}\n",
       "#T_711a8_row9_col12, #T_711a8_row11_col17, #T_711a8_row12_col9 {\n",
       "  background-color: #cdd9ec;\n",
       "  color: #000000;\n",
       "}\n",
       "#T_711a8_row9_col17, #T_711a8_row14_col8 {\n",
       "  background-color: #94b6ff;\n",
       "  color: #000000;\n",
       "}\n",
       "#T_711a8_row10_col1 {\n",
       "  background-color: #dfdbd9;\n",
       "  color: #000000;\n",
       "}\n",
       "#T_711a8_row10_col8 {\n",
       "  background-color: #ecd3c5;\n",
       "  color: #000000;\n",
       "}\n",
       "#T_711a8_row10_col11, #T_711a8_row11_col10 {\n",
       "  background-color: #f7ad90;\n",
       "  color: #000000;\n",
       "}\n",
       "#T_711a8_row10_col12 {\n",
       "  background-color: #f0cdbb;\n",
       "  color: #000000;\n",
       "}\n",
       "#T_711a8_row10_col15, #T_711a8_row15_col2 {\n",
       "  background-color: #4c66d6;\n",
       "  color: #f1f1f1;\n",
       "}\n",
       "#T_711a8_row11_col15 {\n",
       "  background-color: #7396f5;\n",
       "  color: #f1f1f1;\n",
       "}\n",
       "#T_711a8_row12_col10, #T_711a8_row14_col13 {\n",
       "  background-color: #efcebd;\n",
       "  color: #000000;\n",
       "}\n",
       "#T_711a8_row12_col13, #T_711a8_row13_col12 {\n",
       "  background-color: #f18f71;\n",
       "  color: #f1f1f1;\n",
       "}\n",
       "#T_711a8_row12_col14, #T_711a8_row12_col17 {\n",
       "  background-color: #d9dce1;\n",
       "  color: #000000;\n",
       "}\n",
       "#T_711a8_row12_col15 {\n",
       "  background-color: #81a4fb;\n",
       "  color: #f1f1f1;\n",
       "}\n",
       "#T_711a8_row13_col3 {\n",
       "  background-color: #e3d9d3;\n",
       "  color: #000000;\n",
       "}\n",
       "#T_711a8_row13_col4 {\n",
       "  background-color: #f7b79b;\n",
       "  color: #000000;\n",
       "}\n",
       "#T_711a8_row13_col14 {\n",
       "  background-color: #edd1c2;\n",
       "  color: #000000;\n",
       "}\n",
       "#T_711a8_row13_col15 {\n",
       "  background-color: #6687ed;\n",
       "  color: #f1f1f1;\n",
       "}\n",
       "#T_711a8_row14_col1, #T_711a8_row15_col5 {\n",
       "  background-color: #8badfd;\n",
       "  color: #000000;\n",
       "}\n",
       "#T_711a8_row14_col4, #T_711a8_row17_col11 {\n",
       "  background-color: #cedaeb;\n",
       "  color: #000000;\n",
       "}\n",
       "#T_711a8_row14_col5 {\n",
       "  background-color: #d7dce3;\n",
       "  color: #000000;\n",
       "}\n",
       "#T_711a8_row14_col6 {\n",
       "  background-color: #e5d8d1;\n",
       "  color: #000000;\n",
       "}\n",
       "#T_711a8_row14_col15 {\n",
       "  background-color: #5470de;\n",
       "  color: #f1f1f1;\n",
       "}\n",
       "#T_711a8_row14_col16 {\n",
       "  background-color: #455cce;\n",
       "  color: #f1f1f1;\n",
       "}\n",
       "#T_711a8_row14_col17 {\n",
       "  background-color: #bcd2f7;\n",
       "  color: #000000;\n",
       "}\n",
       "#T_711a8_row15_col3 {\n",
       "  background-color: #5977e3;\n",
       "  color: #f1f1f1;\n",
       "}\n",
       "#T_711a8_row15_col6 {\n",
       "  background-color: #6f92f3;\n",
       "  color: #f1f1f1;\n",
       "}\n",
       "#T_711a8_row15_col7 {\n",
       "  background-color: #506bda;\n",
       "  color: #f1f1f1;\n",
       "}\n",
       "#T_711a8_row15_col10 {\n",
       "  background-color: #4f69d9;\n",
       "  color: #f1f1f1;\n",
       "}\n",
       "#T_711a8_row15_col11 {\n",
       "  background-color: #7699f6;\n",
       "  color: #f1f1f1;\n",
       "}\n",
       "#T_711a8_row15_col13 {\n",
       "  background-color: #6a8bef;\n",
       "  color: #f1f1f1;\n",
       "}\n",
       "#T_711a8_row16_col15 {\n",
       "  background-color: #4961d2;\n",
       "  color: #f1f1f1;\n",
       "}\n",
       "#T_711a8_row17_col1 {\n",
       "  background-color: #799cf8;\n",
       "  color: #f1f1f1;\n",
       "}\n",
       "#T_711a8_row17_col7 {\n",
       "  background-color: #b9d0f9;\n",
       "  color: #000000;\n",
       "}\n",
       "#T_711a8_row17_col8 {\n",
       "  background-color: #7ea1fa;\n",
       "  color: #f1f1f1;\n",
       "}\n",
       "</style>\n",
       "<table id=\"T_711a8_\" class=\"dataframe\">\n",
       "  <thead>\n",
       "    <tr>\n",
       "      <th class=\"blank level0\" >&nbsp;</th>\n",
       "      <th class=\"col_heading level0 col0\" >nid</th>\n",
       "      <th class=\"col_heading level0 col1\" >L500k</th>\n",
       "      <th class=\"col_heading level0 col2\" >L1k</th>\n",
       "      <th class=\"col_heading level0 col3\" >L2k</th>\n",
       "      <th class=\"col_heading level0 col4\" >L3k</th>\n",
       "      <th class=\"col_heading level0 col5\" >L4k</th>\n",
       "      <th class=\"col_heading level0 col6\" >L6k</th>\n",
       "      <th class=\"col_heading level0 col7\" >L8k</th>\n",
       "      <th class=\"col_heading level0 col8\" >R500k</th>\n",
       "      <th class=\"col_heading level0 col9\" >R1k</th>\n",
       "      <th class=\"col_heading level0 col10\" >R2k</th>\n",
       "      <th class=\"col_heading level0 col11\" >R3k</th>\n",
       "      <th class=\"col_heading level0 col12\" >R4k</th>\n",
       "      <th class=\"col_heading level0 col13\" >R6k</th>\n",
       "      <th class=\"col_heading level0 col14\" >R8k</th>\n",
       "      <th class=\"col_heading level0 col15\" >gender</th>\n",
       "      <th class=\"col_heading level0 col16\" >naics</th>\n",
       "      <th class=\"col_heading level0 col17\" >age_group</th>\n",
       "    </tr>\n",
       "  </thead>\n",
       "  <tbody>\n",
       "    <tr>\n",
       "      <th id=\"T_711a8_level0_row0\" class=\"row_heading level0 row0\" >nid</th>\n",
       "      <td id=\"T_711a8_row0_col0\" class=\"data row0 col0\" >1.000000</td>\n",
       "      <td id=\"T_711a8_row0_col1\" class=\"data row0 col1\" >-0.027332</td>\n",
       "      <td id=\"T_711a8_row0_col2\" class=\"data row0 col2\" >-0.025167</td>\n",
       "      <td id=\"T_711a8_row0_col3\" class=\"data row0 col3\" >-0.014588</td>\n",
       "      <td id=\"T_711a8_row0_col4\" class=\"data row0 col4\" >0.002970</td>\n",
       "      <td id=\"T_711a8_row0_col5\" class=\"data row0 col5\" >0.004260</td>\n",
       "      <td id=\"T_711a8_row0_col6\" class=\"data row0 col6\" >0.001608</td>\n",
       "      <td id=\"T_711a8_row0_col7\" class=\"data row0 col7\" >0.107042</td>\n",
       "      <td id=\"T_711a8_row0_col8\" class=\"data row0 col8\" >-0.014118</td>\n",
       "      <td id=\"T_711a8_row0_col9\" class=\"data row0 col9\" >-0.022737</td>\n",
       "      <td id=\"T_711a8_row0_col10\" class=\"data row0 col10\" >-0.014482</td>\n",
       "      <td id=\"T_711a8_row0_col11\" class=\"data row0 col11\" >0.000742</td>\n",
       "      <td id=\"T_711a8_row0_col12\" class=\"data row0 col12\" >0.002630</td>\n",
       "      <td id=\"T_711a8_row0_col13\" class=\"data row0 col13\" >-0.000467</td>\n",
       "      <td id=\"T_711a8_row0_col14\" class=\"data row0 col14\" >0.108258</td>\n",
       "      <td id=\"T_711a8_row0_col15\" class=\"data row0 col15\" >-0.017363</td>\n",
       "      <td id=\"T_711a8_row0_col16\" class=\"data row0 col16\" >0.025701</td>\n",
       "      <td id=\"T_711a8_row0_col17\" class=\"data row0 col17\" >-0.003860</td>\n",
       "    </tr>\n",
       "    <tr>\n",
       "      <th id=\"T_711a8_level0_row1\" class=\"row_heading level0 row1\" >L500k</th>\n",
       "      <td id=\"T_711a8_row1_col0\" class=\"data row1 col0\" >-0.027332</td>\n",
       "      <td id=\"T_711a8_row1_col1\" class=\"data row1 col1\" >1.000000</td>\n",
       "      <td id=\"T_711a8_row1_col2\" class=\"data row1 col2\" >0.737940</td>\n",
       "      <td id=\"T_711a8_row1_col3\" class=\"data row1 col3\" >0.530673</td>\n",
       "      <td id=\"T_711a8_row1_col4\" class=\"data row1 col4\" >0.365899</td>\n",
       "      <td id=\"T_711a8_row1_col5\" class=\"data row1 col5\" >0.319431</td>\n",
       "      <td id=\"T_711a8_row1_col6\" class=\"data row1 col6\" >0.326996</td>\n",
       "      <td id=\"T_711a8_row1_col7\" class=\"data row1 col7\" >0.230760</td>\n",
       "      <td id=\"T_711a8_row1_col8\" class=\"data row1 col8\" >0.713111</td>\n",
       "      <td id=\"T_711a8_row1_col9\" class=\"data row1 col9\" >0.626533</td>\n",
       "      <td id=\"T_711a8_row1_col10\" class=\"data row1 col10\" >0.488317</td>\n",
       "      <td id=\"T_711a8_row1_col11\" class=\"data row1 col11\" >0.344489</td>\n",
       "      <td id=\"T_711a8_row1_col12\" class=\"data row1 col12\" >0.302051</td>\n",
       "      <td id=\"T_711a8_row1_col13\" class=\"data row1 col13\" >0.303587</td>\n",
       "      <td id=\"T_711a8_row1_col14\" class=\"data row1 col14\" >0.211715</td>\n",
       "      <td id=\"T_711a8_row1_col15\" class=\"data row1 col15\" >-0.016359</td>\n",
       "      <td id=\"T_711a8_row1_col16\" class=\"data row1 col16\" >-0.040626</td>\n",
       "      <td id=\"T_711a8_row1_col17\" class=\"data row1 col17\" >0.160756</td>\n",
       "    </tr>\n",
       "    <tr>\n",
       "      <th id=\"T_711a8_level0_row2\" class=\"row_heading level0 row2\" >L1k</th>\n",
       "      <td id=\"T_711a8_row2_col0\" class=\"data row2 col0\" >-0.025167</td>\n",
       "      <td id=\"T_711a8_row2_col1\" class=\"data row2 col1\" >0.737940</td>\n",
       "      <td id=\"T_711a8_row2_col2\" class=\"data row2 col2\" >1.000000</td>\n",
       "      <td id=\"T_711a8_row2_col3\" class=\"data row2 col3\" >0.693512</td>\n",
       "      <td id=\"T_711a8_row2_col4\" class=\"data row2 col4\" >0.481970</td>\n",
       "      <td id=\"T_711a8_row2_col5\" class=\"data row2 col5\" >0.423023</td>\n",
       "      <td id=\"T_711a8_row2_col6\" class=\"data row2 col6\" >0.409102</td>\n",
       "      <td id=\"T_711a8_row2_col7\" class=\"data row2 col7\" >0.291242</td>\n",
       "      <td id=\"T_711a8_row2_col8\" class=\"data row2 col8\" >0.635315</td>\n",
       "      <td id=\"T_711a8_row2_col9\" class=\"data row2 col9\" >0.765139</td>\n",
       "      <td id=\"T_711a8_row2_col10\" class=\"data row2 col10\" >0.634198</td>\n",
       "      <td id=\"T_711a8_row2_col11\" class=\"data row2 col11\" >0.453399</td>\n",
       "      <td id=\"T_711a8_row2_col12\" class=\"data row2 col12\" >0.397674</td>\n",
       "      <td id=\"T_711a8_row2_col13\" class=\"data row2 col13\" >0.384899</td>\n",
       "      <td id=\"T_711a8_row2_col14\" class=\"data row2 col14\" >0.267989</td>\n",
       "      <td id=\"T_711a8_row2_col15\" class=\"data row2 col15\" >0.032450</td>\n",
       "      <td id=\"T_711a8_row2_col16\" class=\"data row2 col16\" >-0.031878</td>\n",
       "      <td id=\"T_711a8_row2_col17\" class=\"data row2 col17\" >0.234031</td>\n",
       "    </tr>\n",
       "    <tr>\n",
       "      <th id=\"T_711a8_level0_row3\" class=\"row_heading level0 row3\" >L2k</th>\n",
       "      <td id=\"T_711a8_row3_col0\" class=\"data row3 col0\" >-0.014588</td>\n",
       "      <td id=\"T_711a8_row3_col1\" class=\"data row3 col1\" >0.530673</td>\n",
       "      <td id=\"T_711a8_row3_col2\" class=\"data row3 col2\" >0.693512</td>\n",
       "      <td id=\"T_711a8_row3_col3\" class=\"data row3 col3\" >1.000000</td>\n",
       "      <td id=\"T_711a8_row3_col4\" class=\"data row3 col4\" >0.699846</td>\n",
       "      <td id=\"T_711a8_row3_col5\" class=\"data row3 col5\" >0.590665</td>\n",
       "      <td id=\"T_711a8_row3_col6\" class=\"data row3 col6\" >0.546310</td>\n",
       "      <td id=\"T_711a8_row3_col7\" class=\"data row3 col7\" >0.382226</td>\n",
       "      <td id=\"T_711a8_row3_col8\" class=\"data row3 col8\" >0.484072</td>\n",
       "      <td id=\"T_711a8_row3_col9\" class=\"data row3 col9\" >0.618546</td>\n",
       "      <td id=\"T_711a8_row3_col10\" class=\"data row3 col10\" >0.795976</td>\n",
       "      <td id=\"T_711a8_row3_col11\" class=\"data row3 col11\" >0.653385</td>\n",
       "      <td id=\"T_711a8_row3_col12\" class=\"data row3 col12\" >0.555114</td>\n",
       "      <td id=\"T_711a8_row3_col13\" class=\"data row3 col13\" >0.511994</td>\n",
       "      <td id=\"T_711a8_row3_col14\" class=\"data row3 col14\" >0.351191</td>\n",
       "      <td id=\"T_711a8_row3_col15\" class=\"data row3 col15\" >0.072465</td>\n",
       "      <td id=\"T_711a8_row3_col16\" class=\"data row3 col16\" >-0.031049</td>\n",
       "      <td id=\"T_711a8_row3_col17\" class=\"data row3 col17\" >0.328662</td>\n",
       "    </tr>\n",
       "    <tr>\n",
       "      <th id=\"T_711a8_level0_row4\" class=\"row_heading level0 row4\" >L3k</th>\n",
       "      <td id=\"T_711a8_row4_col0\" class=\"data row4 col0\" >0.002970</td>\n",
       "      <td id=\"T_711a8_row4_col1\" class=\"data row4 col1\" >0.365899</td>\n",
       "      <td id=\"T_711a8_row4_col2\" class=\"data row4 col2\" >0.481970</td>\n",
       "      <td id=\"T_711a8_row4_col3\" class=\"data row4 col3\" >0.699846</td>\n",
       "      <td id=\"T_711a8_row4_col4\" class=\"data row4 col4\" >1.000000</td>\n",
       "      <td id=\"T_711a8_row4_col5\" class=\"data row4 col5\" >0.841565</td>\n",
       "      <td id=\"T_711a8_row4_col6\" class=\"data row4 col6\" >0.709987</td>\n",
       "      <td id=\"T_711a8_row4_col7\" class=\"data row4 col7\" >0.468610</td>\n",
       "      <td id=\"T_711a8_row4_col8\" class=\"data row4 col8\" >0.343919</td>\n",
       "      <td id=\"T_711a8_row4_col9\" class=\"data row4 col9\" >0.442512</td>\n",
       "      <td id=\"T_711a8_row4_col10\" class=\"data row4 col10\" >0.617508</td>\n",
       "      <td id=\"T_711a8_row4_col11\" class=\"data row4 col11\" >0.832910</td>\n",
       "      <td id=\"T_711a8_row4_col12\" class=\"data row4 col12\" >0.775406</td>\n",
       "      <td id=\"T_711a8_row4_col13\" class=\"data row4 col13\" >0.661850</td>\n",
       "      <td id=\"T_711a8_row4_col14\" class=\"data row4 col14\" >0.431247</td>\n",
       "      <td id=\"T_711a8_row4_col15\" class=\"data row4 col15\" >0.187135</td>\n",
       "      <td id=\"T_711a8_row4_col16\" class=\"data row4 col16\" >-0.030385</td>\n",
       "      <td id=\"T_711a8_row4_col17\" class=\"data row4 col17\" >0.435615</td>\n",
       "    </tr>\n",
       "    <tr>\n",
       "      <th id=\"T_711a8_level0_row5\" class=\"row_heading level0 row5\" >L4k</th>\n",
       "      <td id=\"T_711a8_row5_col0\" class=\"data row5 col0\" >0.004260</td>\n",
       "      <td id=\"T_711a8_row5_col1\" class=\"data row5 col1\" >0.319431</td>\n",
       "      <td id=\"T_711a8_row5_col2\" class=\"data row5 col2\" >0.423023</td>\n",
       "      <td id=\"T_711a8_row5_col3\" class=\"data row5 col3\" >0.590665</td>\n",
       "      <td id=\"T_711a8_row5_col4\" class=\"data row5 col4\" >0.841565</td>\n",
       "      <td id=\"T_711a8_row5_col5\" class=\"data row5 col5\" >1.000000</td>\n",
       "      <td id=\"T_711a8_row5_col6\" class=\"data row5 col6\" >0.773842</td>\n",
       "      <td id=\"T_711a8_row5_col7\" class=\"data row5 col7\" >0.498479</td>\n",
       "      <td id=\"T_711a8_row5_col8\" class=\"data row5 col8\" >0.304978</td>\n",
       "      <td id=\"T_711a8_row5_col9\" class=\"data row5 col9\" >0.393062</td>\n",
       "      <td id=\"T_711a8_row5_col10\" class=\"data row5 col10\" >0.527788</td>\n",
       "      <td id=\"T_711a8_row5_col11\" class=\"data row5 col11\" >0.754633</td>\n",
       "      <td id=\"T_711a8_row5_col12\" class=\"data row5 col12\" >0.836240</td>\n",
       "      <td id=\"T_711a8_row5_col13\" class=\"data row5 col13\" >0.719717</td>\n",
       "      <td id=\"T_711a8_row5_col14\" class=\"data row5 col14\" >0.460245</td>\n",
       "      <td id=\"T_711a8_row5_col15\" class=\"data row5 col15\" >0.219978</td>\n",
       "      <td id=\"T_711a8_row5_col16\" class=\"data row5 col16\" >-0.031310</td>\n",
       "      <td id=\"T_711a8_row5_col17\" class=\"data row5 col17\" >0.480702</td>\n",
       "    </tr>\n",
       "    <tr>\n",
       "      <th id=\"T_711a8_level0_row6\" class=\"row_heading level0 row6\" >L6k</th>\n",
       "      <td id=\"T_711a8_row6_col0\" class=\"data row6 col0\" >0.001608</td>\n",
       "      <td id=\"T_711a8_row6_col1\" class=\"data row6 col1\" >0.326996</td>\n",
       "      <td id=\"T_711a8_row6_col2\" class=\"data row6 col2\" >0.409102</td>\n",
       "      <td id=\"T_711a8_row6_col3\" class=\"data row6 col3\" >0.546310</td>\n",
       "      <td id=\"T_711a8_row6_col4\" class=\"data row6 col4\" >0.709987</td>\n",
       "      <td id=\"T_711a8_row6_col5\" class=\"data row6 col5\" >0.773842</td>\n",
       "      <td id=\"T_711a8_row6_col6\" class=\"data row6 col6\" >1.000000</td>\n",
       "      <td id=\"T_711a8_row6_col7\" class=\"data row6 col7\" >0.581654</td>\n",
       "      <td id=\"T_711a8_row6_col8\" class=\"data row6 col8\" >0.309441</td>\n",
       "      <td id=\"T_711a8_row6_col9\" class=\"data row6 col9\" >0.386415</td>\n",
       "      <td id=\"T_711a8_row6_col10\" class=\"data row6 col10\" >0.500412</td>\n",
       "      <td id=\"T_711a8_row6_col11\" class=\"data row6 col11\" >0.656520</td>\n",
       "      <td id=\"T_711a8_row6_col12\" class=\"data row6 col12\" >0.722027</td>\n",
       "      <td id=\"T_711a8_row6_col13\" class=\"data row6 col13\" >0.797114</td>\n",
       "      <td id=\"T_711a8_row6_col14\" class=\"data row6 col14\" >0.518358</td>\n",
       "      <td id=\"T_711a8_row6_col15\" class=\"data row6 col15\" >0.138364</td>\n",
       "      <td id=\"T_711a8_row6_col16\" class=\"data row6 col16\" >-0.030927</td>\n",
       "      <td id=\"T_711a8_row6_col17\" class=\"data row6 col17\" >0.460349</td>\n",
       "    </tr>\n",
       "    <tr>\n",
       "      <th id=\"T_711a8_level0_row7\" class=\"row_heading level0 row7\" >L8k</th>\n",
       "      <td id=\"T_711a8_row7_col0\" class=\"data row7 col0\" >0.107042</td>\n",
       "      <td id=\"T_711a8_row7_col1\" class=\"data row7 col1\" >0.230760</td>\n",
       "      <td id=\"T_711a8_row7_col2\" class=\"data row7 col2\" >0.291242</td>\n",
       "      <td id=\"T_711a8_row7_col3\" class=\"data row7 col3\" >0.382226</td>\n",
       "      <td id=\"T_711a8_row7_col4\" class=\"data row7 col4\" >0.468610</td>\n",
       "      <td id=\"T_711a8_row7_col5\" class=\"data row7 col5\" >0.498479</td>\n",
       "      <td id=\"T_711a8_row7_col6\" class=\"data row7 col6\" >0.581654</td>\n",
       "      <td id=\"T_711a8_row7_col7\" class=\"data row7 col7\" >1.000000</td>\n",
       "      <td id=\"T_711a8_row7_col8\" class=\"data row7 col8\" >0.224759</td>\n",
       "      <td id=\"T_711a8_row7_col9\" class=\"data row7 col9\" >0.275429</td>\n",
       "      <td id=\"T_711a8_row7_col10\" class=\"data row7 col10\" >0.353348</td>\n",
       "      <td id=\"T_711a8_row7_col11\" class=\"data row7 col11\" >0.440731</td>\n",
       "      <td id=\"T_711a8_row7_col12\" class=\"data row7 col12\" >0.474076</td>\n",
       "      <td id=\"T_711a8_row7_col13\" class=\"data row7 col13\" >0.530726</td>\n",
       "      <td id=\"T_711a8_row7_col14\" class=\"data row7 col14\" >0.895035</td>\n",
       "      <td id=\"T_711a8_row7_col15\" class=\"data row7 col15\" >0.074340</td>\n",
       "      <td id=\"T_711a8_row7_col16\" class=\"data row7 col16\" >0.001263</td>\n",
       "      <td id=\"T_711a8_row7_col17\" class=\"data row7 col17\" >0.379627</td>\n",
       "    </tr>\n",
       "    <tr>\n",
       "      <th id=\"T_711a8_level0_row8\" class=\"row_heading level0 row8\" >R500k</th>\n",
       "      <td id=\"T_711a8_row8_col0\" class=\"data row8 col0\" >-0.014118</td>\n",
       "      <td id=\"T_711a8_row8_col1\" class=\"data row8 col1\" >0.713111</td>\n",
       "      <td id=\"T_711a8_row8_col2\" class=\"data row8 col2\" >0.635315</td>\n",
       "      <td id=\"T_711a8_row8_col3\" class=\"data row8 col3\" >0.484072</td>\n",
       "      <td id=\"T_711a8_row8_col4\" class=\"data row8 col4\" >0.343919</td>\n",
       "      <td id=\"T_711a8_row8_col5\" class=\"data row8 col5\" >0.304978</td>\n",
       "      <td id=\"T_711a8_row8_col6\" class=\"data row8 col6\" >0.309441</td>\n",
       "      <td id=\"T_711a8_row8_col7\" class=\"data row8 col7\" >0.224759</td>\n",
       "      <td id=\"T_711a8_row8_col8\" class=\"data row8 col8\" >1.000000</td>\n",
       "      <td id=\"T_711a8_row8_col9\" class=\"data row8 col9\" >0.737291</td>\n",
       "      <td id=\"T_711a8_row8_col10\" class=\"data row8 col10\" >0.547556</td>\n",
       "      <td id=\"T_711a8_row8_col11\" class=\"data row8 col11\" >0.381226</td>\n",
       "      <td id=\"T_711a8_row8_col12\" class=\"data row8 col12\" >0.328735</td>\n",
       "      <td id=\"T_711a8_row8_col13\" class=\"data row8 col13\" >0.335889</td>\n",
       "      <td id=\"T_711a8_row8_col14\" class=\"data row8 col14\" >0.241272</td>\n",
       "      <td id=\"T_711a8_row8_col15\" class=\"data row8 col15\" >-0.022394</td>\n",
       "      <td id=\"T_711a8_row8_col16\" class=\"data row8 col16\" >-0.040048</td>\n",
       "      <td id=\"T_711a8_row8_col17\" class=\"data row8 col17\" >0.176692</td>\n",
       "    </tr>\n",
       "    <tr>\n",
       "      <th id=\"T_711a8_level0_row9\" class=\"row_heading level0 row9\" >R1k</th>\n",
       "      <td id=\"T_711a8_row9_col0\" class=\"data row9 col0\" >-0.022737</td>\n",
       "      <td id=\"T_711a8_row9_col1\" class=\"data row9 col1\" >0.626533</td>\n",
       "      <td id=\"T_711a8_row9_col2\" class=\"data row9 col2\" >0.765139</td>\n",
       "      <td id=\"T_711a8_row9_col3\" class=\"data row9 col3\" >0.618546</td>\n",
       "      <td id=\"T_711a8_row9_col4\" class=\"data row9 col4\" >0.442512</td>\n",
       "      <td id=\"T_711a8_row9_col5\" class=\"data row9 col5\" >0.393062</td>\n",
       "      <td id=\"T_711a8_row9_col6\" class=\"data row9 col6\" >0.386415</td>\n",
       "      <td id=\"T_711a8_row9_col7\" class=\"data row9 col7\" >0.275429</td>\n",
       "      <td id=\"T_711a8_row9_col8\" class=\"data row9 col8\" >0.737291</td>\n",
       "      <td id=\"T_711a8_row9_col9\" class=\"data row9 col9\" >1.000000</td>\n",
       "      <td id=\"T_711a8_row9_col10\" class=\"data row9 col10\" >0.704307</td>\n",
       "      <td id=\"T_711a8_row9_col11\" class=\"data row9 col11\" >0.488127</td>\n",
       "      <td id=\"T_711a8_row9_col12\" class=\"data row9 col12\" >0.424237</td>\n",
       "      <td id=\"T_711a8_row9_col13\" class=\"data row9 col13\" >0.410879</td>\n",
       "      <td id=\"T_711a8_row9_col14\" class=\"data row9 col14\" >0.291958</td>\n",
       "      <td id=\"T_711a8_row9_col15\" class=\"data row9 col15\" >0.011340</td>\n",
       "      <td id=\"T_711a8_row9_col16\" class=\"data row9 col16\" >-0.032530</td>\n",
       "      <td id=\"T_711a8_row9_col17\" class=\"data row9 col17\" >0.253263</td>\n",
       "    </tr>\n",
       "    <tr>\n",
       "      <th id=\"T_711a8_level0_row10\" class=\"row_heading level0 row10\" >R2k</th>\n",
       "      <td id=\"T_711a8_row10_col0\" class=\"data row10 col0\" >-0.014482</td>\n",
       "      <td id=\"T_711a8_row10_col1\" class=\"data row10 col1\" >0.488317</td>\n",
       "      <td id=\"T_711a8_row10_col2\" class=\"data row10 col2\" >0.634198</td>\n",
       "      <td id=\"T_711a8_row10_col3\" class=\"data row10 col3\" >0.795976</td>\n",
       "      <td id=\"T_711a8_row10_col4\" class=\"data row10 col4\" >0.617508</td>\n",
       "      <td id=\"T_711a8_row10_col5\" class=\"data row10 col5\" >0.527788</td>\n",
       "      <td id=\"T_711a8_row10_col6\" class=\"data row10 col6\" >0.500412</td>\n",
       "      <td id=\"T_711a8_row10_col7\" class=\"data row10 col7\" >0.353348</td>\n",
       "      <td id=\"T_711a8_row10_col8\" class=\"data row10 col8\" >0.547556</td>\n",
       "      <td id=\"T_711a8_row10_col9\" class=\"data row10 col9\" >0.704307</td>\n",
       "      <td id=\"T_711a8_row10_col10\" class=\"data row10 col10\" >1.000000</td>\n",
       "      <td id=\"T_711a8_row10_col11\" class=\"data row10 col11\" >0.687658</td>\n",
       "      <td id=\"T_711a8_row10_col12\" class=\"data row10 col12\" >0.573063</td>\n",
       "      <td id=\"T_711a8_row10_col13\" class=\"data row10 col13\" >0.533749</td>\n",
       "      <td id=\"T_711a8_row10_col14\" class=\"data row10 col14\" >0.372796</td>\n",
       "      <td id=\"T_711a8_row10_col15\" class=\"data row10 col15\" >0.038345</td>\n",
       "      <td id=\"T_711a8_row10_col16\" class=\"data row10 col16\" >-0.030191</td>\n",
       "      <td id=\"T_711a8_row10_col17\" class=\"data row10 col17\" >0.333037</td>\n",
       "    </tr>\n",
       "    <tr>\n",
       "      <th id=\"T_711a8_level0_row11\" class=\"row_heading level0 row11\" >R3k</th>\n",
       "      <td id=\"T_711a8_row11_col0\" class=\"data row11 col0\" >0.000742</td>\n",
       "      <td id=\"T_711a8_row11_col1\" class=\"data row11 col1\" >0.344489</td>\n",
       "      <td id=\"T_711a8_row11_col2\" class=\"data row11 col2\" >0.453399</td>\n",
       "      <td id=\"T_711a8_row11_col3\" class=\"data row11 col3\" >0.653385</td>\n",
       "      <td id=\"T_711a8_row11_col4\" class=\"data row11 col4\" >0.832910</td>\n",
       "      <td id=\"T_711a8_row11_col5\" class=\"data row11 col5\" >0.754633</td>\n",
       "      <td id=\"T_711a8_row11_col6\" class=\"data row11 col6\" >0.656520</td>\n",
       "      <td id=\"T_711a8_row11_col7\" class=\"data row11 col7\" >0.440731</td>\n",
       "      <td id=\"T_711a8_row11_col8\" class=\"data row11 col8\" >0.381226</td>\n",
       "      <td id=\"T_711a8_row11_col9\" class=\"data row11 col9\" >0.488127</td>\n",
       "      <td id=\"T_711a8_row11_col10\" class=\"data row11 col10\" >0.687658</td>\n",
       "      <td id=\"T_711a8_row11_col11\" class=\"data row11 col11\" >1.000000</td>\n",
       "      <td id=\"T_711a8_row11_col12\" class=\"data row11 col12\" >0.831797</td>\n",
       "      <td id=\"T_711a8_row11_col13\" class=\"data row11 col13\" >0.699717</td>\n",
       "      <td id=\"T_711a8_row11_col14\" class=\"data row11 col14\" >0.456242</td>\n",
       "      <td id=\"T_711a8_row11_col15\" class=\"data row11 col15\" >0.159499</td>\n",
       "      <td id=\"T_711a8_row11_col16\" class=\"data row11 col16\" >-0.029915</td>\n",
       "      <td id=\"T_711a8_row11_col17\" class=\"data row11 col17\" >0.429135</td>\n",
       "    </tr>\n",
       "    <tr>\n",
       "      <th id=\"T_711a8_level0_row12\" class=\"row_heading level0 row12\" >R4k</th>\n",
       "      <td id=\"T_711a8_row12_col0\" class=\"data row12 col0\" >0.002630</td>\n",
       "      <td id=\"T_711a8_row12_col1\" class=\"data row12 col1\" >0.302051</td>\n",
       "      <td id=\"T_711a8_row12_col2\" class=\"data row12 col2\" >0.397674</td>\n",
       "      <td id=\"T_711a8_row12_col3\" class=\"data row12 col3\" >0.555114</td>\n",
       "      <td id=\"T_711a8_row12_col4\" class=\"data row12 col4\" >0.775406</td>\n",
       "      <td id=\"T_711a8_row12_col5\" class=\"data row12 col5\" >0.836240</td>\n",
       "      <td id=\"T_711a8_row12_col6\" class=\"data row12 col6\" >0.722027</td>\n",
       "      <td id=\"T_711a8_row12_col7\" class=\"data row12 col7\" >0.474076</td>\n",
       "      <td id=\"T_711a8_row12_col8\" class=\"data row12 col8\" >0.328735</td>\n",
       "      <td id=\"T_711a8_row12_col9\" class=\"data row12 col9\" >0.424237</td>\n",
       "      <td id=\"T_711a8_row12_col10\" class=\"data row12 col10\" >0.573063</td>\n",
       "      <td id=\"T_711a8_row12_col11\" class=\"data row12 col11\" >0.831797</td>\n",
       "      <td id=\"T_711a8_row12_col12\" class=\"data row12 col12\" >1.000000</td>\n",
       "      <td id=\"T_711a8_row12_col13\" class=\"data row12 col13\" >0.768298</td>\n",
       "      <td id=\"T_711a8_row12_col14\" class=\"data row12 col14\" >0.486684</td>\n",
       "      <td id=\"T_711a8_row12_col15\" class=\"data row12 col15\" >0.198773</td>\n",
       "      <td id=\"T_711a8_row12_col16\" class=\"data row12 col16\" >-0.031841</td>\n",
       "      <td id=\"T_711a8_row12_col17\" class=\"data row12 col17\" >0.475039</td>\n",
       "    </tr>\n",
       "    <tr>\n",
       "      <th id=\"T_711a8_level0_row13\" class=\"row_heading level0 row13\" >R6k</th>\n",
       "      <td id=\"T_711a8_row13_col0\" class=\"data row13 col0\" >-0.000467</td>\n",
       "      <td id=\"T_711a8_row13_col1\" class=\"data row13 col1\" >0.303587</td>\n",
       "      <td id=\"T_711a8_row13_col2\" class=\"data row13 col2\" >0.384899</td>\n",
       "      <td id=\"T_711a8_row13_col3\" class=\"data row13 col3\" >0.511994</td>\n",
       "      <td id=\"T_711a8_row13_col4\" class=\"data row13 col4\" >0.661850</td>\n",
       "      <td id=\"T_711a8_row13_col5\" class=\"data row13 col5\" >0.719717</td>\n",
       "      <td id=\"T_711a8_row13_col6\" class=\"data row13 col6\" >0.797114</td>\n",
       "      <td id=\"T_711a8_row13_col7\" class=\"data row13 col7\" >0.530726</td>\n",
       "      <td id=\"T_711a8_row13_col8\" class=\"data row13 col8\" >0.335889</td>\n",
       "      <td id=\"T_711a8_row13_col9\" class=\"data row13 col9\" >0.410879</td>\n",
       "      <td id=\"T_711a8_row13_col10\" class=\"data row13 col10\" >0.533749</td>\n",
       "      <td id=\"T_711a8_row13_col11\" class=\"data row13 col11\" >0.699717</td>\n",
       "      <td id=\"T_711a8_row13_col12\" class=\"data row13 col12\" >0.768298</td>\n",
       "      <td id=\"T_711a8_row13_col13\" class=\"data row13 col13\" >1.000000</td>\n",
       "      <td id=\"T_711a8_row13_col14\" class=\"data row13 col14\" >0.570721</td>\n",
       "      <td id=\"T_711a8_row13_col15\" class=\"data row13 col15\" >0.120806</td>\n",
       "      <td id=\"T_711a8_row13_col16\" class=\"data row13 col16\" >-0.033359</td>\n",
       "      <td id=\"T_711a8_row13_col17\" class=\"data row13 col17\" >0.455786</td>\n",
       "    </tr>\n",
       "    <tr>\n",
       "      <th id=\"T_711a8_level0_row14\" class=\"row_heading level0 row14\" >R8k</th>\n",
       "      <td id=\"T_711a8_row14_col0\" class=\"data row14 col0\" >0.108258</td>\n",
       "      <td id=\"T_711a8_row14_col1\" class=\"data row14 col1\" >0.211715</td>\n",
       "      <td id=\"T_711a8_row14_col2\" class=\"data row14 col2\" >0.267989</td>\n",
       "      <td id=\"T_711a8_row14_col3\" class=\"data row14 col3\" >0.351191</td>\n",
       "      <td id=\"T_711a8_row14_col4\" class=\"data row14 col4\" >0.431247</td>\n",
       "      <td id=\"T_711a8_row14_col5\" class=\"data row14 col5\" >0.460245</td>\n",
       "      <td id=\"T_711a8_row14_col6\" class=\"data row14 col6\" >0.518358</td>\n",
       "      <td id=\"T_711a8_row14_col7\" class=\"data row14 col7\" >0.895035</td>\n",
       "      <td id=\"T_711a8_row14_col8\" class=\"data row14 col8\" >0.241272</td>\n",
       "      <td id=\"T_711a8_row14_col9\" class=\"data row14 col9\" >0.291958</td>\n",
       "      <td id=\"T_711a8_row14_col10\" class=\"data row14 col10\" >0.372796</td>\n",
       "      <td id=\"T_711a8_row14_col11\" class=\"data row14 col11\" >0.456242</td>\n",
       "      <td id=\"T_711a8_row14_col12\" class=\"data row14 col12\" >0.486684</td>\n",
       "      <td id=\"T_711a8_row14_col13\" class=\"data row14 col13\" >0.570721</td>\n",
       "      <td id=\"T_711a8_row14_col14\" class=\"data row14 col14\" >1.000000</td>\n",
       "      <td id=\"T_711a8_row14_col15\" class=\"data row14 col15\" >0.064125</td>\n",
       "      <td id=\"T_711a8_row14_col16\" class=\"data row14 col16\" >0.000004</td>\n",
       "      <td id=\"T_711a8_row14_col17\" class=\"data row14 col17\" >0.371245</td>\n",
       "    </tr>\n",
       "    <tr>\n",
       "      <th id=\"T_711a8_level0_row15\" class=\"row_heading level0 row15\" >gender</th>\n",
       "      <td id=\"T_711a8_row15_col0\" class=\"data row15 col0\" >-0.017363</td>\n",
       "      <td id=\"T_711a8_row15_col1\" class=\"data row15 col1\" >-0.016359</td>\n",
       "      <td id=\"T_711a8_row15_col2\" class=\"data row15 col2\" >0.032450</td>\n",
       "      <td id=\"T_711a8_row15_col3\" class=\"data row15 col3\" >0.072465</td>\n",
       "      <td id=\"T_711a8_row15_col4\" class=\"data row15 col4\" >0.187135</td>\n",
       "      <td id=\"T_711a8_row15_col5\" class=\"data row15 col5\" >0.219978</td>\n",
       "      <td id=\"T_711a8_row15_col6\" class=\"data row15 col6\" >0.138364</td>\n",
       "      <td id=\"T_711a8_row15_col7\" class=\"data row15 col7\" >0.074340</td>\n",
       "      <td id=\"T_711a8_row15_col8\" class=\"data row15 col8\" >-0.022394</td>\n",
       "      <td id=\"T_711a8_row15_col9\" class=\"data row15 col9\" >0.011340</td>\n",
       "      <td id=\"T_711a8_row15_col10\" class=\"data row15 col10\" >0.038345</td>\n",
       "      <td id=\"T_711a8_row15_col11\" class=\"data row15 col11\" >0.159499</td>\n",
       "      <td id=\"T_711a8_row15_col12\" class=\"data row15 col12\" >0.198773</td>\n",
       "      <td id=\"T_711a8_row15_col13\" class=\"data row15 col13\" >0.120806</td>\n",
       "      <td id=\"T_711a8_row15_col14\" class=\"data row15 col14\" >0.064125</td>\n",
       "      <td id=\"T_711a8_row15_col15\" class=\"data row15 col15\" >1.000000</td>\n",
       "      <td id=\"T_711a8_row15_col16\" class=\"data row15 col16\" >0.028054</td>\n",
       "      <td id=\"T_711a8_row15_col17\" class=\"data row15 col17\" >-0.011572</td>\n",
       "    </tr>\n",
       "    <tr>\n",
       "      <th id=\"T_711a8_level0_row16\" class=\"row_heading level0 row16\" >naics</th>\n",
       "      <td id=\"T_711a8_row16_col0\" class=\"data row16 col0\" >0.025701</td>\n",
       "      <td id=\"T_711a8_row16_col1\" class=\"data row16 col1\" >-0.040626</td>\n",
       "      <td id=\"T_711a8_row16_col2\" class=\"data row16 col2\" >-0.031878</td>\n",
       "      <td id=\"T_711a8_row16_col3\" class=\"data row16 col3\" >-0.031049</td>\n",
       "      <td id=\"T_711a8_row16_col4\" class=\"data row16 col4\" >-0.030385</td>\n",
       "      <td id=\"T_711a8_row16_col5\" class=\"data row16 col5\" >-0.031310</td>\n",
       "      <td id=\"T_711a8_row16_col6\" class=\"data row16 col6\" >-0.030927</td>\n",
       "      <td id=\"T_711a8_row16_col7\" class=\"data row16 col7\" >0.001263</td>\n",
       "      <td id=\"T_711a8_row16_col8\" class=\"data row16 col8\" >-0.040048</td>\n",
       "      <td id=\"T_711a8_row16_col9\" class=\"data row16 col9\" >-0.032530</td>\n",
       "      <td id=\"T_711a8_row16_col10\" class=\"data row16 col10\" >-0.030191</td>\n",
       "      <td id=\"T_711a8_row16_col11\" class=\"data row16 col11\" >-0.029915</td>\n",
       "      <td id=\"T_711a8_row16_col12\" class=\"data row16 col12\" >-0.031841</td>\n",
       "      <td id=\"T_711a8_row16_col13\" class=\"data row16 col13\" >-0.033359</td>\n",
       "      <td id=\"T_711a8_row16_col14\" class=\"data row16 col14\" >0.000004</td>\n",
       "      <td id=\"T_711a8_row16_col15\" class=\"data row16 col15\" >0.028054</td>\n",
       "      <td id=\"T_711a8_row16_col16\" class=\"data row16 col16\" >1.000000</td>\n",
       "      <td id=\"T_711a8_row16_col17\" class=\"data row16 col17\" >-0.025383</td>\n",
       "    </tr>\n",
       "    <tr>\n",
       "      <th id=\"T_711a8_level0_row17\" class=\"row_heading level0 row17\" >age_group</th>\n",
       "      <td id=\"T_711a8_row17_col0\" class=\"data row17 col0\" >-0.003860</td>\n",
       "      <td id=\"T_711a8_row17_col1\" class=\"data row17 col1\" >0.160756</td>\n",
       "      <td id=\"T_711a8_row17_col2\" class=\"data row17 col2\" >0.234031</td>\n",
       "      <td id=\"T_711a8_row17_col3\" class=\"data row17 col3\" >0.328662</td>\n",
       "      <td id=\"T_711a8_row17_col4\" class=\"data row17 col4\" >0.435615</td>\n",
       "      <td id=\"T_711a8_row17_col5\" class=\"data row17 col5\" >0.480702</td>\n",
       "      <td id=\"T_711a8_row17_col6\" class=\"data row17 col6\" >0.460349</td>\n",
       "      <td id=\"T_711a8_row17_col7\" class=\"data row17 col7\" >0.379627</td>\n",
       "      <td id=\"T_711a8_row17_col8\" class=\"data row17 col8\" >0.176692</td>\n",
       "      <td id=\"T_711a8_row17_col9\" class=\"data row17 col9\" >0.253263</td>\n",
       "      <td id=\"T_711a8_row17_col10\" class=\"data row17 col10\" >0.333037</td>\n",
       "      <td id=\"T_711a8_row17_col11\" class=\"data row17 col11\" >0.429135</td>\n",
       "      <td id=\"T_711a8_row17_col12\" class=\"data row17 col12\" >0.475039</td>\n",
       "      <td id=\"T_711a8_row17_col13\" class=\"data row17 col13\" >0.455786</td>\n",
       "      <td id=\"T_711a8_row17_col14\" class=\"data row17 col14\" >0.371245</td>\n",
       "      <td id=\"T_711a8_row17_col15\" class=\"data row17 col15\" >-0.011572</td>\n",
       "      <td id=\"T_711a8_row17_col16\" class=\"data row17 col16\" >-0.025383</td>\n",
       "      <td id=\"T_711a8_row17_col17\" class=\"data row17 col17\" >1.000000</td>\n",
       "    </tr>\n",
       "  </tbody>\n",
       "</table>\n"
      ],
      "text/plain": [
       "<pandas.io.formats.style.Styler at 0x7f421315e450>"
      ]
     },
     "execution_count": 124,
     "metadata": {},
     "output_type": "execute_result"
    }
   ],
   "source": [
    "#Vizualize the correlation graph \n",
    "corr = df.corr()\n",
    "corr.style.background_gradient(cmap='coolwarm')\n"
   ]
  },
  {
   "cell_type": "markdown",
   "metadata": {
    "id": "azyQslu1vaxY"
   },
   "source": [
    "Vizualize the Correlation of the Features.\n",
    "\n",
    "---\n",
    "\n",
    "The graph correlation shows that the features has **higher correlation** with **freuquency closer** to them. As frequency 1k has a higher correlation with 500k and 2k"
   ]
  },
  {
   "cell_type": "markdown",
   "metadata": {
    "id": "p9Eh0A-NAj1Q"
   },
   "source": [
    "### Normal distribution of the frequency features\n",
    "\n",
    "Step 1: Create histogram and the normal distribution from each frequency feature"
   ]
  },
  {
   "cell_type": "code",
   "execution_count": 125,
   "metadata": {
    "colab": {
     "base_uri": "https://localhost:8080/",
     "height": 0
    },
    "id": "Keh11AKwNlPi",
    "outputId": "dbd0e81e-5b0b-4316-fc99-97e09ab1a9f0"
   },
   "outputs": [
    {
     "data": {
      "image/png": "[encoded data removed]",
      "text/plain": [
       "<Figure size 432x288 with 14 Axes>"
      ]
     },
     "metadata": {},
     "output_type": "display_data"
    }
   ],
   "source": [
    "# Vizualize the distribution of the frequencies features\n",
    "\n",
    "lis = ['L500k', 'L1k','L2k','L3k','L4k','L6k','L8k']\n",
    "c = 1\n",
    "\n",
    "# Create subplots with a histogram and the normal distribution in each feature\n",
    "for data in lis:\n",
    "  \n",
    "    plt.subplot(4,4,c)\n",
    "\n",
    "    #Create a probability distribution of a normal curve \n",
    "    size = np.arange(df[data].min(),df[data].max())\n",
    "    p= norm.pdf(size, df[data].mean(), df[data].std())\n",
    "\n",
    "    #Plot the Normal Distribution\n",
    "    plt.plot(size, p, 'k', linewidth=2)\n",
    "\n",
    "\n",
    "    # Plot the histogram.\n",
    "    plt.hist(df[data], bins=10, density=True, alpha=0.6, color='red')\n",
    "    plt.title(data ,fontsize = 16, color ='black')\n",
    "    c+=1\n",
    "\n",
    "lis_2 = ['R500k', 'R1k','R2k','R3k','R4k','R6k','R8k']\n",
    "\n",
    "for data in lis_2:\n",
    "  \n",
    "    plt.subplot(4,4,c)\n",
    "    #Create a normal distribuition \n",
    "    size = np.arange(df[data].min(),df[data].max())\n",
    "    p = norm.pdf(size, df[data].mean(), df[data].std())\n",
    "\n",
    "    #Plot the Normal Distribution\n",
    "    plt.plot(size, p, 'k', linewidth=2)\n",
    "\n",
    "\n",
    "    # Plot the histogram.\n",
    "    plt.hist(df[data], bins=10, density=True, alpha=0.6, color='green')\n",
    "    plt.title(data ,fontsize = 16, color ='black')\n",
    "    c+=1\n",
    "\n",
    "# Adjust the plot\n",
    "plt.subplots_adjust(right = 4,top = 4, hspace = 0.5)"
   ]
  },
  {
   "cell_type": "markdown",
   "metadata": {
    "id": "qfqlCN1BwQP5"
   },
   "source": [
    "Show the normal distribution in the frequency featuares.\n",
    "\n",
    "\n",
    "---\n",
    "\n",
    "The graphs show that **lower frequencies** have **smaller standard deviations**; consequently, making it easier to predict those frequencies. "
   ]
  },
  {
   "cell_type": "markdown",
   "metadata": {
    "id": "Pt9Ps-fJBQNk"
   },
   "source": [
    "### Gender Proportions\n",
    "\n",
    "Step 1: Create a pie graph what shows the gender ratio  "
   ]
  },
  {
   "cell_type": "code",
   "execution_count": 126,
   "metadata": {
    "colab": {
     "base_uri": "https://localhost:8080/",
     "height": 0
    },
    "id": "Y0LQGYG-J-xJ",
    "outputId": "94c60107-da4b-4240-cf7f-a81be6a6f4cc"
   },
   "outputs": [
    {
     "data": {
      "image/png": "[encoded data removed]",
      "text/plain": [
       "<Figure size 720x720 with 1 Axes>"
      ]
     },
     "metadata": {},
     "output_type": "display_data"
    }
   ],
   "source": [
    "#Plot a pie graph and show the ratio of the gender distribution\n",
    "plt.figure(figsize=(10,10))\n",
    "x = np.arange(2)\n",
    "y = [df.gender.value_counts()[1],df.gender.value_counts()[2]]\n",
    "plt.pie(y, labels = ['Female', 'Men'], autopct='%1.0f%%',textprops={'fontsize': 14})\n",
    "plt.title('Gender Proportions',fontsize = 18)\n",
    "plt.show()"
   ]
  },
  {
   "cell_type": "markdown",
   "metadata": {
    "id": "tbfiv8DvwkGt"
   },
   "source": [
    "Visualize the gender has the most patients.\n",
    "\n",
    "\n",
    "---\n",
    "\n",
    "\n",
    "There are **more men** than women in this dataset with more than a **$\\frac{3}{1}$ ratio** as the graph shows. "
   ]
  },
  {
   "cell_type": "markdown",
   "metadata": {
    "id": "_HbRCenrCNdT"
   },
   "source": [
    "### Which Ear Has The Most Hearing Loss at Various Frequencies\n",
    "\n",
    "Step 1: Find the mean ($\\mu$) value at each frequency.\n",
    "<br />\n",
    "Step 2: Plot a Bar Graph where compare the mean threshold between each ear and frequency level."
   ]
  },
  {
   "cell_type": "code",
   "execution_count": 127,
   "metadata": {
    "colab": {
     "base_uri": "https://localhost:8080/",
     "height": 648
    },
    "id": "gNA7NwpQEwQH",
    "outputId": "e3442f64-d0a8-4d32-dd03-01554569d498"
   },
   "outputs": [
    {
     "data": {
      "image/png": "[encoded data removed]",
      "text/plain": [
       "<Figure size 1440x720 with 1 Axes>"
      ]
     },
     "metadata": {},
     "output_type": "display_data"
    }
   ],
   "source": [
    "# Find the Mean value for each column\n",
    "y_lf_values = [df['L500k'].mean(),df['L1k'].mean(),df['L2k'].mean(),df['L3k'].mean(),df['L4k'].mean(),df['L6k'].mean(),df['L8k'].mean()]\n",
    "\n",
    "y_rg_values = [df['R500k'].mean(),df['R1k'].mean(),df['R2k'].mean(),df['R3k'].mean(),df['R4k'].mean(),df['R6k'].mean(),df['R8k'].mean()]\n",
    "\n",
    "ind = np.arange(7)\n",
    "\n",
    "#Plot the bar graph comparing their respective mean for each ear\n",
    "\n",
    "plt.figure(figsize=(20,10))\n",
    "\n",
    "plt.bar(x = ind, height = y_lf_values,width = 0.3, label='Left')\n",
    "plt.bar(x = ind + 0.3, height = y_rg_values,width = 0.3, label='Right')\n",
    "\n",
    "plt.xticks(ind + 0.3 / 2, ('500k', '1k',\t'2k',\t'3k',\t'4k',\t'6k', '8k'), fontsize=20)\n",
    "plt.xlabel('Frequency Level', fontsize=20)\n",
    "plt.ylabel(r'$\\mu$ of dB', fontsize=25)\n",
    "plt.title('Hearing Loss at Various Frequency Levels for Each Ear', fontsize=25)\n",
    "\n",
    "plt.legend(loc='best', fontsize=20)\n",
    "plt.show()"
   ]
  },
  {
   "cell_type": "markdown",
   "metadata": {
    "id": "fWLSTeicxT0p"
   },
   "source": [
    "This part of vizualization is to see which ear has the most loss in dB at each frequency.\n",
    "\n",
    "\n",
    "---\n",
    "\n",
    "The **left** ear has the **worst** loss **across frequencies**.\n",
    "\n"
   ]
  },
  {
   "cell_type": "markdown",
   "metadata": {
    "id": "V8C7A7YzD6jM"
   },
   "source": [
    "## **Data Cleaning**\n",
    "\n",
    "\n",
    "\n",
    "---\n",
    "\n",
    "As mentioned before, most of the missing values came from the 8k frequency. Therefore, I decided to drop the rows that have missing values from the other columns. However, to handle the column 8k, I use a different approach in order to retain important records from the other frequency values. I decided to use the ``IterativeImpute()`` using the sklearn library.\n",
    "\n",
    "Also for this part, I broke the data set for each ear. Training and testing set splits (80 Train, 20 Test) were conducted for both ears.\n",
    "\n",
    "<br />\n",
    "\n",
    "X: The 2K, 4K and 6k were selected as the features of the model. It was pre-determined. \n",
    "<br />\n",
    "Y: The remaining 4 frequency levels are the targets to recreate the whole audiogram. \n",
    "\n"
   ]
  },
  {
   "cell_type": "code",
   "execution_count": null,
   "metadata": {
    "id": "3EygEgGG-dU4"
   },
   "outputs": [],
   "source": [
    "# Drop the rows that contains NaN values for the 500k, 1k, 2k, 3k, 4k, and 6k features\n",
    "df = df.dropna(subset=['L500k', 'L1k','L2k','L3k','L4k','L6k','R500k', 'R1k','R2k','R3k','R4k','R6k'])"
   ]
  },
  {
   "cell_type": "code",
   "execution_count": null,
   "metadata": {
    "id": "_hUijUUVnWFB"
   },
   "outputs": [],
   "source": [
    "# Loc all my features and targets\n",
    "X = df.loc[:,['L500k', 'L1k','L2k','L3k','L4k','L6k','L8k','R500k', 'R1k','R2k','R3k','R4k','R6k','R8k']]"
   ]
  },
  {
   "cell_type": "markdown",
   "metadata": {
    "id": "jnee_vP6Mv3J"
   },
   "source": [
    "### 8K Frequency Feature Processing\n",
    "\n",
    "\n",
    "---\n",
    " Step 1: Fit and tranform the data in the ``IterativeImpute()`` "
   ]
  },
  {
   "cell_type": "code",
   "execution_count": null,
   "metadata": {
    "colab": {
     "base_uri": "https://localhost:8080/"
    },
    "id": "GJMQkRD2nHKx",
    "outputId": "b55ef473-07c0-4b44-bfba-539f2533a7f5"
   },
   "outputs": [
    {
     "name": "stderr",
     "output_type": "stream",
     "text": [
      "/usr/local/lib/python3.7/dist-packages/sklearn/impute/_iterative.py:701: ConvergenceWarning: [IterativeImputer] Early stopping criterion not reached.\n",
      "  ConvergenceWarning,\n"
     ]
    }
   ],
   "source": [
    "impute_it = IterativeImputer()\n",
    "X = impute_it.fit_transform(X)"
   ]
  },
  {
   "cell_type": "markdown",
   "metadata": {
    "id": "XkqUeXDJHN5p"
   },
   "source": [
    "### Creating the training and test data\n",
    "\n",
    "\n",
    "---\n",
    "\n",
    "Step 1: Split the data in Right/Left ear and features/targets.\n",
    "<br />\n",
    "Step 2: Split the dataset into Training and Test Sets.\n",
    "\n",
    "\n",
    "---\n",
    "\n",
    "\n",
    "For future approaches, maybe it is necessary to reduce bias from gender by the stratification of the gender variable while splitting the data in Training and Test due to the imbalance found in the ratio of men to women. \n"
   ]
  },
  {
   "cell_type": "code",
   "execution_count": null,
   "metadata": {
    "id": "N2XK35FTqvyo"
   },
   "outputs": [],
   "source": [
    "# Create Numpy arrays for X and y in each ear\n",
    "X_left = np.zeros((X.shape[0],3))\n",
    "y_left = np.zeros((X.shape[0],4))\n",
    "\n",
    "X_right = np.zeros((X.shape[0],3))\n",
    "y_right = np.zeros((X.shape[0],4))"
   ]
  },
  {
   "cell_type": "code",
   "execution_count": null,
   "metadata": {
    "id": "r5QD7cvh4EbL"
   },
   "outputs": [],
   "source": [
    "# Fill the X and y with the clean Data \n",
    "X_left[:,0] = X[:,2]\n",
    "X_left[:,1] = X[:,4]\n",
    "X_left[:,2] = X[:,5]\n",
    "\n",
    "y_left[:,0] = X[:,0]\n",
    "y_left[:,1] = X[:,1]\n",
    "y_left[:,2] = X[:,3]\n",
    "y_left[:,3] = X[:,6]\n",
    "\n",
    "X_right[:,0] = X[:,9]\n",
    "X_right[:,1] = X[:,11]\n",
    "X_right[:,2] = X[:,12]\n",
    "\n",
    "y_right[:,0] = X[:,7]\n",
    "y_right[:,1] = X[:,8]\n",
    "y_right[:,2] = X[:,10]\n",
    "y_right[:,3] = X[:,13]\n",
    "\n"
   ]
  },
  {
   "cell_type": "code",
   "execution_count": null,
   "metadata": {
    "id": "3hICgGDeCi4X"
   },
   "outputs": [],
   "source": [
    "# Seperate the data into test and train set for left ear (LF)\n",
    "X_train_LF, X_test_LF, y_train_LF, y_test_LF = train_test_split(X_left, y_left, test_size = 0.2,random_state = 98)"
   ]
  },
  {
   "cell_type": "code",
   "execution_count": null,
   "metadata": {
    "id": "hD4gQnPCSVSQ"
   },
   "outputs": [],
   "source": [
    "# Seperate the data into test and train set for right ear (RG)\n",
    "X_train_RG, X_test_RG, y_train_RG, y_test_RG = train_test_split(X_right, y_right, test_size = 0.2,random_state = 98)"
   ]
  },
  {
   "cell_type": "markdown",
   "metadata": {
    "id": "k2tGXbB4EABb"
   },
   "source": [
    "## **Trainig Models for LEFT Ear**\n",
    "\n",
    "\n",
    "---\n",
    "\n",
    "\n",
    "Using the Sckit_Learn and Keras libraries, I created 4 models:\n",
    "\n",
    "- [Linear Regression](https://scikit-learn.org/stable/modules/generated/sklearn.linear_model.LinearRegression.html)\n",
    "- [Decision Tree Regressor](https://scikit-learn.org/stable/auto_examples/tree/plot_tree_regression.html)\n",
    "- [KNeighbors Regressor](https://scikit-learn.org/stable/modules/generated/sklearn.neighbors.KNeighborsRegressor.html)\n",
    "- [Artificial Neural Network](https://keras.io/api/layers/core_layers/dense/) \n",
    "\n",
    "To try both linear and non-linear regression, [multi-output models](https://machinelearningmastery.com/multi-output-regression-models-with-python/) to see which would give a better fit to predict the last 4 thresholds to complete the audiogram. The last three models were trained using the GridSearchCV to tune the hyperparameters.\n",
    "<br />\n",
    "Another important part of this step was to make the predictions in multiples of 5."
   ]
  },
  {
   "cell_type": "markdown",
   "metadata": {
    "id": "_gY0KCYSCMPb"
   },
   "source": [
    "### **Linear Regression**\n",
    "\n",
    "\n",
    "---\n",
    "\n",
    "This model was the only one in which I did not use the Grid Search with K-Fold Cross Validation due to fact that the default values for `normalize = False` and `fit_intercepet = Caluculate_the_Intercept` were already satisfactory.\n",
    "<br /> \n",
    "All the models features have the same scale.\n",
    "\n"
   ]
  },
  {
   "cell_type": "code",
   "execution_count": null,
   "metadata": {
    "colab": {
     "base_uri": "https://localhost:8080/"
    },
    "id": "ScjCmmicCIOS",
    "outputId": "1783c765-62c7-417f-9c7a-a7cc0336482d"
   },
   "outputs": [
    {
     "data": {
      "text/plain": [
       "LinearRegression()"
      ]
     },
     "execution_count": 43,
     "metadata": {},
     "output_type": "execute_result"
    }
   ],
   "source": [
    "# Create the model and fitting\n",
    "linear = LinearRegression()\n",
    "linear.fit(X_train_LF,y_train_LF)"
   ]
  },
  {
   "cell_type": "code",
   "execution_count": null,
   "metadata": {
    "colab": {
     "base_uri": "https://localhost:8080/"
    },
    "id": "BC7u7mJRCIMl",
    "outputId": "2a7f9166-d3d1-4937-a81f-f9fb0d80004a"
   },
   "outputs": [
    {
     "name": "stdout",
     "output_type": "stream",
     "text": [
      " Score 0.48796152245322166\n"
     ]
    }
   ],
   "source": [
    "# Calculate the Score and Predition. \n",
    "print(f' Score: {linear.score(X_test_LF,y_test_LF)}')\n",
    "pred_1_LF = linear.predict(X_test_LF)\n",
    "\n",
    "# Calculate the prediction in step of 5\n",
    "pred_1_LF = pred_1_LF + [5-pred_1_LF%5]"
   ]
  },
  {
   "cell_type": "markdown",
   "metadata": {
    "id": "YElF3Ur4OULF"
   },
   "source": [
    "### **Decision Tree Regressor**\n",
    "\n",
    "\n",
    "\n",
    "---\n",
    "\n",
    "\n",
    "\n",
    "**Hyperparameters:** \n",
    "\n",
    "Tuned\n",
    "\n",
    "1.   `max_depth` has to be a integer between 1 to 100. It determines the minimum number of samples each branch must have after spllting a node in a Decision Tree Regressor Model.\n",
    "2.   `min_samples_split`: Controls the minimum number of samples requires to split an internal node.\n",
    "\n",
    "Untuned\n",
    "\n",
    "- `criterion`:  As criterion of split in a node, I schore the `squared_error` as the criterion.\n",
    "\n",
    "**3-Fold Cross Validation:** To decrease the chances of overfitting the model, I used 3 different splits of the dataset as input and output to calculate the overall performance of the model.\n",
    "\n",
    "**Grid_Search_Scoring:** The idea is to choose a combination of hyperparameters from all possible combinations that would result in the lowest `neg_mean_absolute_error` in order for the Decision Tree to generalize across new samples.\n",
    "\n"
   ]
  },
  {
   "cell_type": "code",
   "execution_count": null,
   "metadata": {
    "id": "Y6iT8J2COp3N"
   },
   "outputs": [],
   "source": [
    "# Create the model\n",
    "tree = DecisionTreeRegressor(criterion = 'squared_error')"
   ]
  },
  {
   "cell_type": "code",
   "execution_count": null,
   "metadata": {
    "id": "BTCacGjwW-pT"
   },
   "outputs": [],
   "source": [
    "# Choose the Hyperparametrs and create the GridSearchCV \"model\"\n",
    "param_grid_5 = {\"max_depth\":[1,5,10,15,20],'min_samples_split':[2,5,10,15,20]}\n",
    "tree= GridSearchCV(tree,param_grid_5, cv =3,scoring = 'neg_mean_absolute_error',n_jobs= -1)"
   ]
  },
  {
   "cell_type": "code",
   "execution_count": null,
   "metadata": {
    "colab": {
     "base_uri": "https://localhost:8080/"
    },
    "id": "qKa3tqeWOjlO",
    "outputId": "a4fa77d4-cebe-4ebc-b262-6504a990efa6"
   },
   "outputs": [
    {
     "data": {
      "text/plain": [
       "GridSearchCV(cv=3, estimator=DecisionTreeRegressor(), n_jobs=-1,\n",
       "             param_grid={'max_depth': [1, 5, 10, 15, 20],\n",
       "                         'min_samples_split': [2, 5, 10, 15, 20]},\n",
       "             scoring='neg_mean_absolute_error')"
      ]
     },
     "execution_count": 50,
     "metadata": {},
     "output_type": "execute_result"
    }
   ],
   "source": [
    "#Fit the model\n",
    "tree.fit(X_train_LF,y_train_LF)"
   ]
  },
  {
   "cell_type": "code",
   "execution_count": null,
   "metadata": {
    "colab": {
     "base_uri": "https://localhost:8080/"
    },
    "id": "Sq9Qc54Ccp18",
    "outputId": "8193ea81-9a33-4030-e994-b253ff743ccd"
   },
   "outputs": [
    {
     "name": "stdout",
     "output_type": "stream",
     "text": [
      "Best n_neighbors:{'max_depth': 15, 'min_samples_split': 20}\n",
      "Score:-6.084055923035511\n",
      "DecisionTreeRegressor(max_depth=15, min_samples_split=20)\n"
     ]
    }
   ],
   "source": [
    "### See the best Score and the hyperparameters in the model and get the model\n",
    "print(f'Best n_neighbors:{tree.best_params_}')\n",
    "print(f'Score:{tree.best_score_}')\n",
    "tree = tree.best_estimator_\n",
    "print(tree)"
   ]
  },
  {
   "cell_type": "code",
   "execution_count": null,
   "metadata": {
    "id": "2DLuzkdGY0Ll"
   },
   "outputs": [],
   "source": [
    "# Calculate the prediction in step of 5\n",
    "pred_2_LF = tree.predict(X_test_LF)\n",
    "pred_2_LF = pred_2_LF + [5-pred_2_LF%5]"
   ]
  },
  {
   "cell_type": "markdown",
   "metadata": {
    "id": "yAPbRKMlPi54"
   },
   "source": [
    "###**KNeighbors Regressor**\n",
    "\n",
    "\n",
    "---\n",
    "**Hyperparameters:** \n",
    "\n",
    "1.   `n_neighbors`: The number of samples to determine the value of the target. This hyperparameter can be determinant for the model accuracy and overffiting. \n",
    "\n",
    "**3-Fold Cross Validation:** To decrease the chances of overfitting the model, I used 3 different splits of the dataset as input and output to calculate the overall performance of the model.\n",
    "\n",
    "**Grid_Search_Scoring:** The idea is to choose a combination of hyperparameters from all possible combinations that would result in the lowest `neg_mean_absolute_error` in order for the Decision Tree to generalize across new samples.\n"
   ]
  },
  {
   "cell_type": "code",
   "execution_count": null,
   "metadata": {
    "id": "dckyow-nmgrU"
   },
   "outputs": [],
   "source": [
    "# Create the model\n",
    "kneigh = KNeighborsRegressor()"
   ]
  },
  {
   "cell_type": "code",
   "execution_count": null,
   "metadata": {
    "id": "dOXWIdVVP_15"
   },
   "outputs": [],
   "source": [
    "# Choose the Hyperparametrs and create the GridSearchCV \"model\"\n",
    "param_grid_3 = {'n_neighbors': np.arange(1,10)}\n",
    "kneigh = GridSearchCV(kneigh,param_grid_3, scoring = 'neg_mean_absolute_error', cv =3,n_jobs= -1)\n"
   ]
  },
  {
   "cell_type": "code",
   "execution_count": null,
   "metadata": {
    "colab": {
     "base_uri": "https://localhost:8080/"
    },
    "id": "kdQseW8j9dRO",
    "outputId": "3416bace-4cb8-4628-9a5a-976dab480cf8"
   },
   "outputs": [
    {
     "data": {
      "text/plain": [
       "GridSearchCV(cv=3, estimator=KNeighborsRegressor(), n_jobs=-1,\n",
       "             param_grid={'n_neighbors': array([1, 2, 3, 4, 5, 6, 7, 8, 9])},\n",
       "             scoring='neg_mean_absolute_error')"
      ]
     },
     "execution_count": 55,
     "metadata": {},
     "output_type": "execute_result"
    }
   ],
   "source": [
    "#Fit the model\n",
    "kneigh.fit(X_train_LF,y_train_LF)"
   ]
  },
  {
   "cell_type": "code",
   "execution_count": null,
   "metadata": {
    "colab": {
     "base_uri": "https://localhost:8080/"
    },
    "id": "IbQTXMInP_sx",
    "outputId": "d1cce156-45b8-4471-ef6f-da78c4bc45db"
   },
   "outputs": [
    {
     "name": "stdout",
     "output_type": "stream",
     "text": [
      "Best n_neighbors:{'n_neighbors': 9}\n",
      "Score:-6.582249654588954\n",
      "KNeighborsRegressor(n_neighbors=9)\n"
     ]
    }
   ],
   "source": [
    "### See the best Score and the hyperparameters in the model and get the model\n",
    "print(f'Best n_neighbors:{kneigh.best_params_}')\n",
    "print(f'Score:{kneigh.best_score_}')\n",
    "kneigh = kneigh.best_estimator_\n",
    "print(kneigh)"
   ]
  },
  {
   "cell_type": "code",
   "execution_count": null,
   "metadata": {
    "id": "M1szUvxXY3kn"
   },
   "outputs": [],
   "source": [
    "# Calculate the prediction in step of 5\n",
    "pred_3_LF = kneigh.predict(X_test_LF)\n",
    "pred_3_LF = pred_3_LF + [5-pred_3_LF%5]\n"
   ]
  },
  {
   "cell_type": "markdown",
   "metadata": {
    "id": "jIeiFUPICIqX"
   },
   "source": [
    "### **Artificial Neural Network**\n",
    "\n",
    "\n",
    "---\n",
    "\n",
    "\n",
    "1.   Number of layers: it was random selection\n",
    "2. Loss Functions Used to Evaluate: it is always a trick what the best loss function for the model. MSE (Mean Square Error) has lower variation results and high penalizartion for large error. While MAE (Mean Absolute Error) penalize equal the larger error and small error.  \n",
    "3.   Optimizer: pick the most common optimizer for regressor model where combine the AdaGrad and RMSProp algorithm optimization.\n",
    "4. Activation Functions: also it was pick for the most common activation function. Where it is a non-linear function, for valors negative it will have 0 outrupt and valors bigger than 0 will be a linear output.\n",
    "\n",
    "**3-Fold Cross Validation:** To decrease the chances of overfitting the model, I used 3 different splits of the dataset as input and output to calculate the overall performance of the model.\n",
    "\n",
    "**Grid_Search_Scoring:** The idea is to choose a combination of hyperparameters from all possible combinations that would result in the lowest `neg_mean_absolute_error` in order for the Decision Tree to generalize across new samples."
   ]
  },
  {
   "cell_type": "code",
   "execution_count": null,
   "metadata": {
    "id": "2GXfYxVcijTW"
   },
   "outputs": [],
   "source": [
    "def create_model(loss,layer_1,layer_2,layer_3,layer_4):\n",
    "\n",
    "    #Create Model\n",
    "    model = Sequential()\n",
    "    model.add(Dense(layer_1, input_dim=3, kernel_initializer='he_uniform', activation='relu')) \n",
    "    model.add(Dense(layer_2, activation='relu'))\n",
    "    model.add(Dense(layer_3, activation='relu'))\n",
    "    model.add(Dense(layer_4, activation='relu'))\n",
    "    model.add(Dense(4))\n",
    "\n",
    "    #Compile the model\n",
    "    model.compile(loss=loss, optimizer='adam')\n",
    "\n",
    "\n",
    "    return model\n",
    "\n"
   ]
  },
  {
   "cell_type": "code",
   "execution_count": null,
   "metadata": {
    "colab": {
     "base_uri": "https://localhost:8080/"
    },
    "id": "3ubYeHs1jJHu",
    "outputId": "81734755-5c88-4c2a-eb99-d274a058810f"
   },
   "outputs": [
    {
     "name": "stderr",
     "output_type": "stream",
     "text": [
      "/usr/local/lib/python3.7/dist-packages/ipykernel_launcher.py:2: DeprecationWarning: KerasRegressor is deprecated, use Sci-Keras (https://github.com/adriangb/scikeras) instead. See https://www.adriangb.com/scikeras/stable/migration.html for help migrating.\n",
      "  \n"
     ]
    }
   ],
   "source": [
    "# create a KerasRegressor to easily turn the hyperparameter\n",
    "model_lf = KerasRegressor(build_fn=create_model, nb_epoch =50, batch_size=256, validation_split = 0.2) #callbacks=[es_monitor]"
   ]
  },
  {
   "cell_type": "code",
   "execution_count": null,
   "metadata": {
    "colab": {
     "base_uri": "https://localhost:8080/"
    },
    "id": "EkzZiw2Jkuh4",
    "outputId": "4be70289-c9cf-4ea5-f8f9-a61bc79af5ca"
   },
   "outputs": [
    {
     "name": "stdout",
     "output_type": "stream",
     "text": [
      "Fitting 3 folds for each of 10 candidates, totalling 30 fits\n",
      "7340/7340 [==============================] - 14s 2ms/step - loss: 6.1629 - val_loss: 6.0013\n"
     ]
    }
   ],
   "source": [
    "# Selecting the hyperparameter \n",
    "loss = ['mse', 'mae']\n",
    "layer_1 = [30,40,50]\n",
    "layer_2 = [20,25,30]\n",
    "layer_3 = [10,15,20]\n",
    "layer_4 = [5,8,10]\n",
    "param_grid = dict(loss=loss,layer_1=layer_1,layer_2=layer_2, layer_3=layer_3,layer_4=layer_4)\n",
    "\n",
    "# Condense the hyperparameter and the model  \n",
    "grid = GridSearchCV(model_lf, param_grid, cv=3,scoring = 'neg_mean_absolute_error',n_jobs= -1,verbose =1)\n",
    "\n",
    "#Fit the Model\n",
    "grid_result = grid.fit(X_train_LF, y_train_LF)"
   ]
  },
  {
   "cell_type": "code",
   "execution_count": null,
   "metadata": {
    "colab": {
     "base_uri": "https://localhost:8080/"
    },
    "id": "21gTjP4o0liV",
    "outputId": "42137dab-7ad9-4581-d8ed-43d03a108cf1"
   },
   "outputs": [
    {
     "name": "stdout",
     "output_type": "stream",
     "text": [
      "Best n_neighbors:{'loss': 'mae', 'layer_4': 8, 'layer_3': 15, 'layer_2': 30, 'layer_1': 30}\n",
      "Score:-6.045722543017793\n",
      "<keras.wrappers.scikit_learn.KerasRegressor object at 0x7f4243d62a10>\n"
     ]
    }
   ],
   "source": [
    "### See the best Score and the hyperparameters in the model and get the model\n",
    "print(f'Best n_neighbors:{grid_result.best_params_}')\n",
    "print(f'Score:{grid_result.best_score_}')\n",
    "model_lf = grid_result.best_estimator_\n",
    "print(model_lf)"
   ]
  },
  {
   "cell_type": "code",
   "execution_count": null,
   "metadata": {
    "id": "EpkeeFJL1uwD"
   },
   "outputs": [],
   "source": [
    "# Calculate the prediction in step of 5\n",
    "y_pred_LF = model_lf.predict(X_test_LF)\n",
    "pred_4_LF = y_pred_LF + [5-y_pred_LF%5]"
   ]
  },
  {
   "cell_type": "markdown",
   "metadata": {
    "id": "NdP50OTrSm_k"
   },
   "source": [
    "## **Training Model for RIGHT Ear**\n",
    "\n",
    "---\n",
    "\n",
    "Using the Sckit_Learn and Keras libraries, I created 4 models:\n",
    "\n",
    "- [Linear Regression](https://scikit-learn.org/stable/modules/generated/sklearn.linear_model.LinearRegression.html)\n",
    "- [Decision Tree Regressor](https://scikit-learn.org/stable/auto_examples/tree/plot_tree_regression.html)\n",
    "- [KNeighbors Regressor](https://scikit-learn.org/stable/modules/generated/sklearn.neighbors.KNeighborsRegressor.html)\n",
    "- [Artificial Neural Network](https://keras.io/api/layers/core_layers/dense/) \n",
    "\n",
    "To try both linear and non-linear regression, [multi-output models](https://machinelearningmastery.com/multi-output-regression-models-with-python/) to see which would give a better fit to predict the last 4 thresholds to complete the audiogram. The last three models were trained using the GridSearchCV to tune the hyperparameters.\n",
    "<br />\n",
    "Another important part of this step was to make the predictions in multiples of 5."
   ]
  },
  {
   "cell_type": "markdown",
   "metadata": {
    "id": "k8OmzEPtS1VP"
   },
   "source": [
    "### **Linear Regression**\n",
    "---\n",
    "\n",
    "This model was the only one in which I did not use the Grid Search with K-Fold Cross Validation due to fact that the default values for `normalize = False` and `fit_intercepet = Caluculate_the_Intercept` were already satisfactory.\n",
    "<br /> \n",
    "All the models features have the same scale.\n"
   ]
  },
  {
   "cell_type": "code",
   "execution_count": null,
   "metadata": {
    "colab": {
     "base_uri": "https://localhost:8080/"
    },
    "id": "L1yAOGltS1VR",
    "outputId": "1b66170a-3309-4fc3-cdb3-5bbb683437a1"
   },
   "outputs": [
    {
     "data": {
      "text/plain": [
       "LinearRegression()"
      ]
     },
     "execution_count": 67,
     "metadata": {},
     "output_type": "execute_result"
    }
   ],
   "source": [
    "linear = LinearRegression()\n",
    "linear.fit(X_train_RG,y_train_RG)"
   ]
  },
  {
   "cell_type": "code",
   "execution_count": null,
   "metadata": {
    "colab": {
     "base_uri": "https://localhost:8080/"
    },
    "id": "BpCrZ9RWS1VU",
    "outputId": "063de9ef-5712-46ba-bc72-0a3003660f6f"
   },
   "outputs": [
    {
     "name": "stdout",
     "output_type": "stream",
     "text": [
      " Score 0.48893339294288407\n"
     ]
    }
   ],
   "source": [
    "print(f' Score {linear.score(X_test_RG,y_test_RG)}')\n",
    "pred_1_RG = linear.predict(X_test_RG)\n",
    "pred_1_RG = pred_1_RG + [5-pred_1_RG%5]"
   ]
  },
  {
   "cell_type": "markdown",
   "metadata": {
    "id": "8zOT6yhKS1VV"
   },
   "source": [
    "### **Decision Tree Regressor**\n",
    "---\n",
    "\n",
    "\n",
    "\n",
    "**Hyperparameters:** \n",
    "\n",
    "Tuned\n",
    "\n",
    "1.   `max_depth` has to be a integer between 1 to 100. It determines the minimum number of samples each branch must have after spllting a node in a Decision Tree Regressor Model.\n",
    "2.   `min_samples_split`: Controls the minimum number of samples requires to split an internal node.\n",
    "\n",
    "Untuned\n",
    "\n",
    "- `criterion`:  As criterion of split in a node, I schore the `squared_error` as the criterion.\n",
    "\n",
    "**3-Fold Cross Validation:** To decrease the chances of overfitting the model, I used 3 different splits of the dataset as input and output to calculate the overall performance of the model.\n",
    "\n",
    "**Grid_Search_Scoring:** The idea is to choose a combination of hyperparameters from all possible combinations that would result in the lowest `neg_mean_absolute_error` in order for the Decision Tree to generalize across new samples."
   ]
  },
  {
   "cell_type": "code",
   "execution_count": null,
   "metadata": {
    "id": "n3d0j9BJS1VW"
   },
   "outputs": [],
   "source": [
    "tree = DecisionTreeRegressor(criterion = 'squared_error')"
   ]
  },
  {
   "cell_type": "code",
   "execution_count": null,
   "metadata": {
    "id": "iSi898F_dsh2"
   },
   "outputs": [],
   "source": [
    "param_grid = {\"max_depth\":[1,5,10,15,20],'min_samples_split':[2,5,10,15,20]}\n",
    "tree= GridSearchCV(tree,param_grid, cv =3,scoring = 'neg_mean_absolute_error',n_jobs= -1)"
   ]
  },
  {
   "cell_type": "code",
   "execution_count": null,
   "metadata": {
    "colab": {
     "base_uri": "https://localhost:8080/"
    },
    "id": "6Wo5BL0PS1VY",
    "outputId": "174e2dbd-4dd1-4e75-a9d7-51bc7029261e"
   },
   "outputs": [
    {
     "data": {
      "text/plain": [
       "GridSearchCV(cv=3, estimator=DecisionTreeRegressor(), n_jobs=-1,\n",
       "             param_grid={'max_depth': [1, 5, 10, 15, 20],\n",
       "                         'min_samples_split': [2, 5, 10, 15, 20]},\n",
       "             scoring='neg_mean_absolute_error')"
      ]
     },
     "execution_count": 71,
     "metadata": {},
     "output_type": "execute_result"
    }
   ],
   "source": [
    "tree.fit(X_train_RG,y_train_RG)"
   ]
  },
  {
   "cell_type": "code",
   "execution_count": null,
   "metadata": {
    "colab": {
     "base_uri": "https://localhost:8080/"
    },
    "id": "lQFS90KMS1VZ",
    "outputId": "b2e26272-6192-4572-e306-6dd08b61b5ea"
   },
   "outputs": [
    {
     "name": "stdout",
     "output_type": "stream",
     "text": [
      "Best n_neighbors:{'max_depth': 15, 'min_samples_split': 20}\n",
      "Score:-6.003894332092609\n",
      "DecisionTreeRegressor(max_depth=15, min_samples_split=20)\n"
     ]
    }
   ],
   "source": [
    "### See the best Score and the hyperparameters in the model and get the model\n",
    "print(f'Best n_neighbors:{tree.best_params_}')\n",
    "print(f'Score:{tree.best_score_}')\n",
    "tree = tree.best_estimator_\n",
    "print(tree)"
   ]
  },
  {
   "cell_type": "code",
   "execution_count": null,
   "metadata": {
    "id": "4tAjkqSXZWwq"
   },
   "outputs": [],
   "source": [
    "pred_2_RG = tree.predict(X_test_RG)\n",
    "pred_2_RG = pred_2_RG + [5-pred_2_RG%5]"
   ]
  },
  {
   "cell_type": "markdown",
   "metadata": {
    "id": "x84ImOuRS1Va"
   },
   "source": [
    "### **KNeighbors Regressor**\n",
    "---\n",
    "**Hyperparameters:** \n",
    "\n",
    "1.   `n_neighbors`: The number of samples to determine the value of the target. This hyperparameter can be determinant for the model accuracy and overffiting. \n",
    "\n",
    "**3-Fold Cross Validation:** To decrease the chances of overfitting the model, I used 3 different splits of the dataset as input and output to calculate the overall performance of the model.\n",
    "\n",
    "**Grid_Search_Scoring:** The idea is to choose a combination of hyperparameters from all possible combinations that would result in the lowest `neg_mean_absolute_error` in order for the Decision Tree to generalize across new samples.\n"
   ]
  },
  {
   "cell_type": "code",
   "execution_count": null,
   "metadata": {
    "id": "iCkNsZYkS1Vb"
   },
   "outputs": [],
   "source": [
    "kneigh = KNeighborsRegressor()"
   ]
  },
  {
   "cell_type": "code",
   "execution_count": null,
   "metadata": {
    "id": "HhdeMxEiS1Vc"
   },
   "outputs": [],
   "source": [
    "param_grid = {'n_neighbors': np.arange(1,10)}\n",
    "kneigh = GridSearchCV(kneigh,param_grid, scoring = 'neg_mean_absolute_error', cv =3,n_jobs= -1)\n"
   ]
  },
  {
   "cell_type": "code",
   "execution_count": null,
   "metadata": {
    "colab": {
     "base_uri": "https://localhost:8080/"
    },
    "id": "c4mEFBImUX5O",
    "outputId": "12d86e9c-b559-4852-c62d-f8c9f4ad94b2"
   },
   "outputs": [
    {
     "data": {
      "text/plain": [
       "GridSearchCV(cv=3, estimator=KNeighborsRegressor(), n_jobs=-1,\n",
       "             param_grid={'n_neighbors': array([1, 2, 3, 4, 5, 6, 7, 8, 9])},\n",
       "             scoring='neg_mean_absolute_error')"
      ]
     },
     "execution_count": 76,
     "metadata": {},
     "output_type": "execute_result"
    }
   ],
   "source": [
    "kneigh.fit(X_train_RG,y_train_RG)"
   ]
  },
  {
   "cell_type": "code",
   "execution_count": null,
   "metadata": {
    "colab": {
     "base_uri": "https://localhost:8080/"
    },
    "id": "L2OgK1WDS1Ve",
    "outputId": "a4b9dd11-a120-412e-a778-d900cc577e6d"
   },
   "outputs": [
    {
     "name": "stdout",
     "output_type": "stream",
     "text": [
      "Best n_neighbors:{'n_neighbors': 9}\n",
      "Score:-6.463523853647028\n",
      "KNeighborsRegressor(n_neighbors=9)\n"
     ]
    }
   ],
   "source": [
    "### See the best Score and the hyperparameters in the model and get the model\n",
    "print(f'Best n_neighbors:{kneigh.best_params_}')\n",
    "print(f'Score:{kneigh.best_score_}')\n",
    "kneigh = kneigh.best_estimator_\n",
    "print(kneigh)"
   ]
  },
  {
   "cell_type": "code",
   "execution_count": null,
   "metadata": {
    "id": "moZ676zPZeE6"
   },
   "outputs": [],
   "source": [
    "pred_3_RG = kneigh.predict(X_test_RG)\n",
    "pred_3_RG = pred_3_RG + [5-pred_3_RG%5]"
   ]
  },
  {
   "cell_type": "markdown",
   "metadata": {
    "id": "NqvvONEFS1Vg"
   },
   "source": [
    "### **Neural Network**\n",
    "---\n",
    "\n",
    "\n",
    "1.   Number of layers: it was random selection\n",
    "2. Loss Functions Used to Evaluate: it is always a trick what the best loss function for the model. MSE (Mean Square Error) has lower variation results and high penalizartion for large error. While MAE (Mean Absolute Error) penalize equal the larger error and small error.  \n",
    "3.   Optimizer: pick the most common optimizer for regressor model where combine the AdaGrad and RMSProp algorithm optimization.\n",
    "4. Activation Functions: also it was pick for the most common activation function. Where it is a non-linear function, for valors negative it will have 0 outrupt and valors bigger than 0 will be a linear output.\n",
    "\n",
    "**3-Fold Cross Validation:** To decrease the chances of overfitting the model, I used 3 different splits of the dataset as input and output to calculate the overall performance of the model.\n",
    "\n",
    "**Grid_Search_Scoring:** The idea is to choose a combination of hyperparameters from all possible combinations that would result in the lowest `neg_mean_absolute_error` in order for the Decision Tree to generalize across new samples."
   ]
  },
  {
   "cell_type": "code",
   "execution_count": null,
   "metadata": {
    "id": "kb2wOxEWS1Vh"
   },
   "outputs": [],
   "source": [
    "def create_model(loss,layer_1,layer_2,layer_3,layer_4):\n",
    "\n",
    "    #Create Model\n",
    "    model = Sequential()\n",
    "    model.add(Dense(layer_1, input_dim=3, kernel_initializer='he_uniform', activation='relu')) \n",
    "    model.add(Dense(layer_2, activation='relu'))\n",
    "    model.add(Dense(layer_3, activation='relu'))\n",
    "    model.add(Dense(layer_4, activation='relu'))\n",
    "    model.add(Dense(4))\n",
    "    model.compile(loss=loss, optimizer='adam')\n",
    "\n",
    "\n",
    "    return model\n",
    "\n"
   ]
  },
  {
   "cell_type": "code",
   "execution_count": null,
   "metadata": {
    "colab": {
     "base_uri": "https://localhost:8080/"
    },
    "id": "7f6fV-wYS1Vi",
    "outputId": "b9888dcf-2711-442e-d35b-f2c0736acb44"
   },
   "outputs": [
    {
     "name": "stderr",
     "output_type": "stream",
     "text": [
      "/usr/local/lib/python3.7/dist-packages/ipykernel_launcher.py:2: DeprecationWarning: KerasRegressor is deprecated, use Sci-Keras (https://github.com/adriangb/scikeras) instead. See https://www.adriangb.com/scikeras/stable/migration.html for help migrating.\n",
      "  \n"
     ]
    }
   ],
   "source": [
    "# create model\n",
    "model = KerasRegressor(build_fn=create_model, nb_epoch =100, batch_size=256, validation_split = 0.2) #callbacks=[es_monitor]"
   ]
  },
  {
   "cell_type": "code",
   "execution_count": null,
   "metadata": {
    "colab": {
     "base_uri": "https://localhost:8080/"
    },
    "id": "8qKyTsaaS1Vj",
    "outputId": "a6bab606-1e4f-4bb3-d5e5-445e946955a9"
   },
   "outputs": [
    {
     "name": "stdout",
     "output_type": "stream",
     "text": [
      "7340/7340 [==============================] - 22s 3ms/step - loss: 6.0698 - val_loss: 5.9178\n"
     ]
    }
   ],
   "source": [
    "loss = ['mse', 'mae']\n",
    "layer_1 = [30,40,500]\n",
    "layer_2 = [20,25,30]\n",
    "layer_3 = [10,15,20]\n",
    "layer_4 = [5,8,10]\n",
    "#param_grid = {'loss':['mse', 'mae', 'hinge'], 'layer_1':[20,30,40], 'layer_2':[10,15,20],'layer_3':[5,8,10]}\n",
    "param_grid = dict(loss=loss,layer_1=layer_1,layer_2=layer_2, layer_3=layer_3, layer_4=layer_4)\n",
    "grid = GridSearchCV(model, param_grid, cv=3,scoring = 'neg_mean_absolute_error',n_jobs= -1)\n",
    "grid = grid.fit(X_train_RG, y_train_RG)"
   ]
  },
  {
   "cell_type": "code",
   "execution_count": null,
   "metadata": {
    "colab": {
     "base_uri": "https://localhost:8080/"
    },
    "id": "vlkOrkSDS1Vk",
    "outputId": "f7b204a4-6612-45cc-c316-02fe53caedc6"
   },
   "outputs": [
    {
     "name": "stdout",
     "output_type": "stream",
     "text": [
      "Best n_neighbors:{'loss': 'mae', 'layer_4': 8, 'layer_3': 15, 'layer_2': 30, 'layer_1': 30}\n",
      "Score:-6.045722543017793\n",
      "<keras.wrappers.scikit_learn.KerasRegressor object at 0x7f4243d62a10>\n"
     ]
    }
   ],
   "source": [
    "print(f'Best n_neighbors:{grid_result.best_params_}')\n",
    "print(f'Score:{grid_result.best_score_}')\n",
    "model_RG = grid_result.best_estimator_\n",
    "print(model_RG)"
   ]
  },
  {
   "cell_type": "code",
   "execution_count": null,
   "metadata": {
    "colab": {
     "base_uri": "https://localhost:8080/"
    },
    "id": "5zzq0rO7S1Vl",
    "outputId": "f2c5bf1f-28c2-48c7-96c7-fb1eb2f57ecf"
   },
   "outputs": [
    {
     "data": {
      "text/plain": [
       "array([[[15., 10., 10., 15.],\n",
       "        [15., 15., 15., 25.],\n",
       "        [10., 10., 35., 60.],\n",
       "        ...,\n",
       "        [20., 15., 20., 15.],\n",
       "        [15., 15., 40., 45.],\n",
       "        [15., 15., 10., 25.]]], dtype=float32)"
      ]
     },
     "execution_count": 84,
     "metadata": {},
     "output_type": "execute_result"
    }
   ],
   "source": [
    "pred_4_RG = model_RG.predict(X_test_RG)\n",
    "pred_4_RG = pred_4_RG + [5-pred_4_RG%5]\n",
    "pred_4_RG"
   ]
  },
  {
   "cell_type": "markdown",
   "metadata": {
    "id": "nCS2tieXaR_u"
   },
   "source": [
    "## **Model Performance Visualization**\n",
    "\n",
    "\n",
    "---\n",
    "\n",
    "\n",
    "The last approach was to vizualized what model has better accuracy using the mean absolute error (MAE) at each frequency. \n",
    "\n",
    "Step 1: Reshape the predictions values\n",
    "<br />\n",
    "Step 2: Create a Data Frame for each model with the true value, predict value and MAE between the points. \n",
    "<br />\n",
    "Step 3: Find the mean MAE for each model and frequency.\n",
    "<br />\n",
    "Step 4: Plot a line comparing the MAE between models  \n"
   ]
  },
  {
   "cell_type": "markdown",
   "metadata": {
    "id": "egv7POdPRA1i"
   },
   "source": [
    "###**Left Ear DataFrames**"
   ]
  },
  {
   "cell_type": "code",
   "execution_count": 128,
   "metadata": {
    "id": "CtE85lr5kk7f"
   },
   "outputs": [],
   "source": [
    "# Reshape the predition values\n",
    "pred_1_LF = pred_1_LF.reshape(y_test_LF.shape[0],4)\n",
    "pred_2_LF = pred_2_LF.reshape(y_test_LF.shape[0],4)\n",
    "pred_3_LF = pred_3_LF.reshape(y_test_LF.shape[0],4)\n",
    "pred_4_LF = pred_4_LF.reshape(y_test_LF.shape[0],4)"
   ]
  },
  {
   "cell_type": "code",
   "execution_count": 129,
   "metadata": {
    "id": "47V-SDTyafcZ"
   },
   "outputs": [],
   "source": [
    "# Create a Data Frame for NN model with true_value, predict_value and MAE between them for each frequency \n",
    "NN_L = pd.DataFrame()\n",
    "\n",
    "NN_L['L500K_TRU'] = y_test_LF[:,0]\n",
    "NN_L['L500K_PRED'] = pred_4_LF[:,0]\n",
    "NN_L['L500K_MAE'] = abs(NN_L['L500K_TRU'] - NN_L['L500K_PRED'])\n",
    "\n",
    "NN_L['L1K_TRU'] = y_test_LF[:,1]\n",
    "NN_L['L1K_PRED'] = pred_4_LF[:,1]\n",
    "NN_L['L1K_MAE'] = abs(NN_L['L1K_TRU'] - NN_L['L1K_PRED'])\n",
    "\n",
    "NN_L['L3K_TRU'] = y_test_LF[:,2]\n",
    "NN_L['L3K_PRED'] = pred_4_LF[:,2]\n",
    "NN_L['L3K_MAE'] = abs(NN_L['L3K_TRU'] - NN_L['L3K_PRED'])\n",
    "\n",
    "NN_L['L8K_TRU'] = y_test_LF[:,3]\n",
    "NN_L['L8K_PRED'] = pred_4_LF[:,3]\n",
    "NN_L['L8K_MAE'] = abs(NN_L['L8K_TRU'] - NN_L['L8K_PRED'])"
   ]
  },
  {
   "cell_type": "code",
   "execution_count": 130,
   "metadata": {
    "id": "8T848OIVDrhw"
   },
   "outputs": [],
   "source": [
    "# Create a Data Frame for KNN model with true_value, predict_value and MAE between them for each frequency\n",
    "KN_L = pd.DataFrame()\n",
    "\n",
    "KN_L['L500K_TRU'] = y_test_LF[:,1]\n",
    "KN_L['L500K_PRED'] = pred_3_LF[:,0]\n",
    "KN_L['L500K_MAE'] = abs(KN_L['L500K_TRU'] - KN_L['L500K_PRED'])\n",
    "\n",
    "KN_L['L1K_TRU'] = y_test_LF[:,1]\n",
    "KN_L['L1K_PRED'] = pred_3_LF[:,1]\n",
    "KN_L['L1K_MAE'] = abs(KN_L['L1K_TRU'] - KN_L['L1K_PRED'])\n",
    "\n",
    "KN_L['L3K_TRU'] = y_test_LF[:,2]\n",
    "KN_L['L3K_PRED'] = pred_3_LF[:,2]\n",
    "KN_L['L3K_MAE'] = abs(KN_L['L3K_TRU'] - KN_L['L3K_PRED'])\n",
    "\n",
    "KN_L['L8K_TRU'] = y_test_LF[:,3]\n",
    "KN_L['L8K_PRED'] = pred_3_LF[:,3]\n",
    "KN_L['L8K_MAE'] = abs(KN_L['L8K_TRU'] - KN_L['L8K_PRED'])"
   ]
  },
  {
   "cell_type": "code",
   "execution_count": 131,
   "metadata": {
    "id": "fM-wwcbOEQw-"
   },
   "outputs": [],
   "source": [
    "# Create a Data Frame for Tree model with true_value, predict_value and MAE between them for each frequency\n",
    "TREE_L = pd.DataFrame()\n",
    "\n",
    "TREE_L['L500K_TRU'] = y_test_LF[:,0]\n",
    "TREE_L['L500K_PRED'] = pred_2_LF[:,0]\n",
    "TREE_L['L500K_MAE'] = abs(TREE_L['L500K_TRU'] - TREE_L['L500K_PRED'])\n",
    "\n",
    "TREE_L['L1K_TRU'] = y_test_LF[:,1]\n",
    "TREE_L['L1K_PRED'] = pred_2_LF[:,1]\n",
    "TREE_L['L1K_MAE'] = abs(TREE_L['L1K_TRU'] - TREE_L['L1K_PRED'])\n",
    "\n",
    "TREE_L['L3K_TRU'] = y_test_LF[:,2]\n",
    "TREE_L['L3K_PRED'] = pred_2_LF[:,2]\n",
    "TREE_L['L3K_MAE'] = abs(TREE_L['L3K_TRU'] - TREE_L['L3K_PRED'])\n",
    "\n",
    "TREE_L['L8K_TRU'] = y_test_LF[:,3]\n",
    "TREE_L['L8K_PRED'] = pred_2_LF[:,3]\n",
    "TREE_L['L8K_MAE'] = abs(TREE_L['L8K_TRU'] - TREE_L['L8K_PRED'])"
   ]
  },
  {
   "cell_type": "code",
   "execution_count": 132,
   "metadata": {
    "id": "1i9vLiHBFblw"
   },
   "outputs": [],
   "source": [
    "# Create a Data Frame for Linear model with true_value, predict_value and MAE between them for each frequency\n",
    "LINEAR_L = pd.DataFrame()\n",
    "\n",
    "LINEAR_L['L500K_TRU'] = y_test_LF[:,0]\n",
    "LINEAR_L['L500K_PRED'] = pred_1_LF[:,0]\n",
    "LINEAR_L['L500K_MAE'] = abs(LINEAR_L['L500K_TRU'] - LINEAR_L['L500K_PRED'])\n",
    "\n",
    "LINEAR_L['L1K_TRU'] = y_test_LF[:,1]\n",
    "LINEAR_L['L1K_PRED'] = pred_1_LF[:,1]\n",
    "LINEAR_L['L1K_MAE'] = abs(LINEAR_L['L1K_TRU'] - LINEAR_L['L1K_PRED'])\n",
    "\n",
    "LINEAR_L['L3K_TRU'] = y_test_LF[:,2]\n",
    "LINEAR_L['L3K_PRED'] = pred_1_LF[:,2]\n",
    "LINEAR_L['L3K_MAE'] = abs(LINEAR_L['L3K_TRU'] - LINEAR_L['L3K_PRED'])\n",
    "\n",
    "LINEAR_L['L8K_TRU'] = y_test_LF[:,3]\n",
    "LINEAR_L['L8K_PRED'] = pred_1_LF[:,3]\n",
    "LINEAR_L['L8K_MAE'] = abs(LINEAR_L['L8K_TRU'] - LINEAR_L['L8K_PRED'])"
   ]
  },
  {
   "cell_type": "markdown",
   "metadata": {
    "id": "p9NRTkunRMjS"
   },
   "source": [
    "###**Right Ear DataFrames**"
   ]
  },
  {
   "cell_type": "code",
   "execution_count": 133,
   "metadata": {
    "id": "iwuufIOjlGI3"
   },
   "outputs": [],
   "source": [
    "# Reshape the predition values\n",
    "pred_1_RG = pred_1_RG.reshape(y_test_LF.shape[0],4)\n",
    "pred_2_RG = pred_2_RG.reshape(y_test_LF.shape[0],4)\n",
    "pred_3_RG = pred_3_RG.reshape(y_test_LF.shape[0],4)\n",
    "pred_4_RG = pred_4_RG.reshape(y_test_LF.shape[0],4)"
   ]
  },
  {
   "cell_type": "code",
   "execution_count": 134,
   "metadata": {
    "id": "qJO6rmC2Rai1"
   },
   "outputs": [],
   "source": [
    "# Create a Data Frame for NN model with true_value, predict_value and MAE between them for each frequency\n",
    "NN_R = pd.DataFrame()\n",
    "\n",
    "NN_R['R500K_TRU'] = y_test_RG[:,0]\n",
    "NN_R['R500K_PRED'] = pred_4_RG[:,0]\n",
    "NN_R['R500K_MAE'] = abs(NN_R['R500K_TRU'] - NN_R['R500K_PRED'])\n",
    "\n",
    "NN_R['R1K_TRU'] = y_test_RG[:,1]\n",
    "NN_R['R1K_PRED'] = pred_4_RG[:,1]\n",
    "NN_R['R1K_MAE'] = abs(NN_R['R1K_TRU'] - NN_R['R1K_PRED'])\n",
    "\n",
    "NN_R['R3K_TRU'] = y_test_RG[:,2]\n",
    "NN_R['R3K_PRED'] = pred_4_RG[:,2]\n",
    "NN_R['R3K_MAE'] = abs(NN_R['R3K_TRU'] - NN_R['R3K_PRED'])\n",
    "\n",
    "NN_R['R8K_TRU'] = y_test_RG[:,3]\n",
    "NN_R['R8K_PRED'] = pred_4_RG[:,3]\n",
    "NN_R['R8K_MAE'] = abs(NN_R['R8K_TRU'] - NN_R['R8K_PRED'])"
   ]
  },
  {
   "cell_type": "code",
   "execution_count": 135,
   "metadata": {
    "id": "NH-RBg1RRai2"
   },
   "outputs": [],
   "source": [
    "# Create a Data Frame for KNN model with true_value, predict_value and MAE between them for each frequency\n",
    "KN_R = pd.DataFrame()\n",
    "\n",
    "KN_R['R500K_TRU'] = y_test_RG[:,0]\n",
    "KN_R['R500K_PRED'] = pred_3_RG[:,0]\n",
    "KN_R['R500K_MAE'] = abs(KN_R['R500K_TRU'] - KN_R['R500K_PRED'])\n",
    "\n",
    "KN_R['R1K_TRU'] = y_test_RG[:,1]\n",
    "KN_R['R1K_PRED'] = pred_3_RG[:,1]\n",
    "KN_R['R1K_MAE'] = abs(KN_R['R1K_TRU'] - KN_R['R1K_PRED'])\n",
    "\n",
    "KN_R['R3K_TRU'] = y_test_RG[:,2]\n",
    "KN_R['R3K_PRED'] = pred_3_RG[:,2]\n",
    "KN_R['R3K_MAE'] = abs(KN_R['R3K_TRU'] - KN_R['R3K_PRED'])\n",
    "\n",
    "KN_R['R8K_TRU'] = y_test_RG[:,3]\n",
    "KN_R['R8K_PRED'] = pred_3_RG[:,3]\n",
    "KN_R['R8K_MAE'] = abs(KN_R['R8K_TRU'] - KN_R['R8K_PRED'])"
   ]
  },
  {
   "cell_type": "code",
   "execution_count": 136,
   "metadata": {
    "id": "AIMhoVsnRai2"
   },
   "outputs": [],
   "source": [
    "# Create a Data Frame for Tree model with true_value, predict_value and MAE between them for each frequency\n",
    "TREE_R = pd.DataFrame()\n",
    "\n",
    "TREE_R['R500K_TRU'] = y_test_RG[:,0]\n",
    "TREE_R['R500K_PRED'] = pred_2_RG[:,0]\n",
    "TREE_R['R500K_MAE'] = abs(TREE_R['R500K_TRU'] - TREE_R['R500K_PRED'])\n",
    "\n",
    "TREE_R['R1K_TRU'] = y_test_RG[:,1]\n",
    "TREE_R['R1K_PRED'] = pred_2_RG[:,1]\n",
    "TREE_R['R1K_MAE'] = abs(TREE_R['R1K_TRU'] - TREE_R['R1K_PRED'])\n",
    "\n",
    "TREE_R['R3K_TRU'] = y_test_RG[:,2]\n",
    "TREE_R['R3K_PRED'] = pred_2_RG[:,2]\n",
    "TREE_R['R3K_MAE'] = abs(TREE_R['R3K_TRU'] - TREE_R['R3K_PRED'])\n",
    "\n",
    "TREE_R['R8K_TRU'] = y_test_RG[:,3]\n",
    "TREE_R['R8K_PRED'] = pred_2_RG[:,3]\n",
    "TREE_R['R8K_MAE'] = abs(TREE_R['R8K_TRU'] - TREE_R['R8K_PRED'])"
   ]
  },
  {
   "cell_type": "code",
   "execution_count": 137,
   "metadata": {
    "id": "nBtG5mWhRai3"
   },
   "outputs": [],
   "source": [
    "# Create a Data Frame for Linear model with true_value, predict_value and MAE between them for each frequency\n",
    "LINEAR_R = pd.DataFrame()\n",
    "\n",
    "LINEAR_R['R500K_TRU'] = y_test_RG[:,0]\n",
    "LINEAR_R['R500K_PRED'] = pred_1_RG[:,0]\n",
    "LINEAR_R['R500K_MAE'] = abs(LINEAR_R['R500K_TRU'] - LINEAR_R['R500K_PRED'])\n",
    "\n",
    "LINEAR_R['R1K_TRU'] = y_test_RG[:,1]\n",
    "LINEAR_R['R1K_PRED'] = pred_1_RG[:,1]\n",
    "LINEAR_R['R1K_MAE'] = abs(LINEAR_R['R1K_TRU'] - LINEAR_R['R1K_PRED'])\n",
    "\n",
    "LINEAR_R['R3K_TRU'] = y_test_RG[:,2]\n",
    "LINEAR_R['R3K_PRED'] = pred_1_RG[:,2]\n",
    "LINEAR_R['R3K_MAE'] = abs(LINEAR_R['R3K_TRU'] - LINEAR_R['R3K_PRED'])\n",
    "\n",
    "LINEAR_R['R8K_TRU'] = y_test_RG[:,3]\n",
    "LINEAR_R['R8K_PRED'] = pred_1_RG[:,3]\n",
    "LINEAR_R['R8K_MAE'] = abs(LINEAR_R['R8K_TRU'] - LINEAR_R['R8K_PRED'])"
   ]
  },
  {
   "cell_type": "markdown",
   "metadata": {
    "id": "-0ZqKMH2RbOq"
   },
   "source": [
    "###**Plotting**"
   ]
  },
  {
   "cell_type": "code",
   "execution_count": 143,
   "metadata": {
    "colab": {
     "base_uri": "https://localhost:8080/",
     "height": 616
    },
    "id": "C-pXVi_OGlMX",
    "outputId": "66acb73c-f285-4307-dcfc-3dac7a375ccd"
   },
   "outputs": [
    {
     "data": {
      "image/png": "[encoded data removed]",
      "text/plain": [
       "<Figure size 2160x720 with 2 Axes>"
      ]
     },
     "metadata": {},
     "output_type": "display_data"
    }
   ],
   "source": [
    "\n",
    "plt.figure(figsize=(30,10))\n",
    "\n",
    "# Plotting the Left Ear Results\n",
    "plt.subplot(1,2,1)\n",
    "\n",
    "x = np.arange(4)\n",
    "\n",
    "# Find the mean ABE for each model in each frequency\n",
    "\n",
    "y_1 = [LINEAR_L['L500K_MAE'].mean(), LINEAR_L['L1K_MAE'].mean(), LINEAR_L['L3K_MAE'].mean(), LINEAR_L['L8K_MAE'].mean()]\n",
    "y_2 = [TREE_L['L500K_MAE'].mean(), TREE_L['L1K_MAE'].mean(), TREE_L['L3K_MAE'].mean(), TREE_L['L8K_MAE'].mean()]\n",
    "y_3 = [KN_L['L500K_MAE'].mean(), KN_L['L1K_MAE'].mean(), KN_L['L3K_MAE'].mean(), KN_L['L8K_MAE'].mean()]\n",
    "y_4 = [NN_L['L500K_MAE'].mean(), NN_L['L1K_MAE'].mean(), NN_L['L3K_MAE'].mean(), NN_L['L8K_MAE'].mean()]\n",
    "\n",
    "plt.plot(x,y_1, label = \"LINEAR\")\n",
    "plt.plot(x, y_2, label = \"TREE\")\n",
    "plt.plot(x, y_3, label = \"KN\")\n",
    "plt.plot(x, y_4, label = \"NN\")\n",
    "\n",
    "plt.xticks(x, ('500k', '1k',\t'3k', '8k'), fontsize=16)\n",
    "plt.ylabel(r'$\\mu dB', fontsize=16)\n",
    "plt.title('Comparison Between Models (Left Ear)', fontsize=18)\n",
    "\n",
    "plt.ylim([2,15])\n",
    "plt.legend(fontsize=16)\n",
    "\n",
    "\n",
    "# PLotting the Right Ear Results\n",
    "plt.subplot(1,2,2)\n",
    "\n",
    "x = np.arange(4)\n",
    "\n",
    "# Find the mean ABE for each model in each frequency\n",
    "y_1 = [LINEAR_R['R500K_MAE'].mean(), LINEAR_R['R1K_MAE'].mean(), LINEAR_R['R3K_MAE'].mean(), LINEAR_R['R8K_MAE'].mean()]\n",
    "y_2 = [TREE_R['R500K_MAE'].mean(), TREE_R['R1K_MAE'].mean(), TREE_R['R3K_MAE'].mean(), TREE_R['R8K_MAE'].mean()]\n",
    "y_3 = [KN_R['R500K_MAE'].mean(), KN_R['R1K_MAE'].mean(), KN_R['R3K_MAE'].mean(), KN_R['R8K_MAE'].mean()]\n",
    "y_4 = [NN_R['R500K_MAE'].mean(), NN_R['R1K_MAE'].mean(), NN_R['R3K_MAE'].mean(), NN_R['R8K_MAE'].mean()]\n",
    "\n",
    "plt.plot(x,y_1, label = \"LINEAR\")\n",
    "plt.plot(x, y_2, label = \"TREE\")\n",
    "plt.plot(x, y_3, label = \"KN\")\n",
    "plt.plot(x, y_4, label = \"NN\")\n",
    "\n",
    "plt.xticks(x, ('500k', '1k',\t'3k', '8k'), fontsize=16)\n",
    "plt.ylabel(r'$\\mu dB', fontsize=16)\n",
    "plt.title('Comparison Between Models (Right Ear)', fontsize=18)\n",
    "\n",
    "plt.ylim([2,15])\n",
    "plt.legend(fontsize=16)\n",
    "plt.show()"
   ]
  },
  {
   "cell_type": "markdown",
   "metadata": {
    "id": "XKLkMn7URXNZ"
   },
   "source": [
    "Interpretation:\n",
    "\n",
    "--- \n",
    "\n",
    "1.   The NN method had the lowest mean absolute error across all frequencies for the left ear.\n",
    "2.   The NN method had the lowest mean absolute error across all frequencies for the right ear.\n",
    "\n",
    "**BOTH NEURAL NETWORK MODELS WERE SELECTED AS THE BEST MODELS FOR FUTURE PREDICTIONS**"
   ]
  },
  {
   "cell_type": "code",
   "execution_count": 139,
   "metadata": {
    "id": "nR3seGtnjRBF"
   },
   "outputs": [],
   "source": [
    "# Save the best model (NN) for LEFT ear for future approaches\n",
    "model_lf.model.save('Models/NN_LF.h5') "
   ]
  },
  {
   "cell_type": "code",
   "execution_count": 140,
   "metadata": {
    "id": "fWUADM_mjg22"
   },
   "outputs": [],
   "source": [
    "# Save the best model (NN) for RIGHT ear for future approaches\n",
    "model_RG.model.save('Models/NN_RG.h5') "
   ]
  }
 ],
 "metadata": {
  "accelerator": "TPU",
  "colab": {
   "collapsed_sections": [
    "YOkaygriQJqU",
    "3RDUu0BBF89u",
    "wLLaZl78DynL",
    "_qBbGIiK95lP",
    "q_qRvF9F-F_M",
    "p9Eh0A-NAj1Q",
    "Pt9Ps-fJBQNk",
    "_HbRCenrCNdT",
    "V8C7A7YzD6jM",
    "jnee_vP6Mv3J",
    "XkqUeXDJHN5p",
    "k2tGXbB4EABb",
    "yAPbRKMlPi54",
    "jIeiFUPICIqX",
    "NdP50OTrSm_k",
    "k8OmzEPtS1VP",
    "8zOT6yhKS1VV",
    "x84ImOuRS1Va",
    "NqvvONEFS1Vg",
    "nCS2tieXaR_u"
   ],
   "machine_shape": "hm",
   "name": "Concha_Labs_Report.ipynb",
   "provenance": []
  },
  "gpuClass": "standard",
  "kernelspec": {
   "display_name": "Python 3 (ipykernel)",
   "language": "python",
   "name": "python3"
  },
  "language_info": {
   "codemirror_mode": {
    "name": "ipython",
    "version": 3
   },
   "file_extension": ".py",
   "mimetype": "text/x-python",
   "name": "python",
   "nbconvert_exporter": "python",
   "pygments_lexer": "ipython3",
   "version": "3.9.12"
  }
 },
 "nbformat": 4,
 "nbformat_minor": 1
}
